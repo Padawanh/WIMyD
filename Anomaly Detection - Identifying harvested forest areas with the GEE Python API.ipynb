{
  "nbformat": 4,
  "nbformat_minor": 0,
  "metadata": {
    "colab": {
      "name": "Anomaly Detection NDVI.ipynb",
      "provenance": [],
      "collapsed_sections": [
        "axX3W5Wmj0ac"
      ],
      "include_colab_link": true
    },
    "kernelspec": {
      "display_name": "Python 3",
      "name": "python3"
    },
    "widgets": {
      "application/vnd.jupyter.widget-state+json": {
        "4ad5ca00f48f42ae81c36e7f3becb625": {
          "model_module": "jupyter-leaflet",
          "model_name": "LeafletMapModel",
          "model_module_version": "^0.15.0",
          "state": {
            "_view_name": "LeafletMapView",
            "keyboard_pan_offset": 80,
            "right": 186848,
            "tap": true,
            "_view_module": "jupyter-leaflet",
            "max_zoom": 24,
            "_model_module_version": "^0.15.0",
            "_view_count": null,
            "zoom_snap": 1,
            "min_zoom": 1,
            "bounce_at_zoom_limits": true,
            "keyboard": true,
            "north": -19.96624983254984,
            "scroll_wheel_zoom": true,
            "dragging": true,
            "_model_module": "jupyter-leaflet",
            "zoom_delta": 1,
            "close_popup_on_click": true,
            "fullscreen": false,
            "style": "IPY_MODEL_0968c9ea6fff4ea0812dda56be24acb5",
            "layout": "IPY_MODEL_4cff3ab5ad144ce098cd477214761bd4",
            "bottom": 292429,
            "prefer_canvas": false,
            "inertia_max_speed": 1500,
            "top": 291829,
            "box_zoom": true,
            "controls": [
              "IPY_MODEL_ad69cd7a302b4c9582cb31a4289ba3be",
              "IPY_MODEL_2eb7ae56de1141c18f74535a482f384b",
              "IPY_MODEL_965cb80689104f2cae5a56eec78ce91f",
              "IPY_MODEL_e4f588a10f764e66a7894a42c0909467",
              "IPY_MODEL_b2d0418f0edd4702b208971eed3a3219",
              "IPY_MODEL_7eba3b6ff6794ebdab45bd7724ec1492",
              "IPY_MODEL_970a507509d149609cbef64f1b5a996b",
              "IPY_MODEL_943ddd276a7443f191b000a2c50685a0"
            ],
            "default_style": "IPY_MODEL_0968c9ea6fff4ea0812dda56be24acb5",
            "east": -51.70166015625001,
            "double_click_zoom": true,
            "interpolation": "bilinear",
            "layers": [
              "IPY_MODEL_57b9a50d83dc4e40b536014cb9a4d260",
              "IPY_MODEL_b549704555734c84b68e9342f4c16aee",
              "IPY_MODEL_ecab9015fc4c494cb5dad0d24ca53ec1",
              "IPY_MODEL_9fe482ee2e2b40fd9dd339d411303cc3",
              "IPY_MODEL_b1913e48a5e543689b4cea37d9ec23e0"
            ],
            "dragging_style": "IPY_MODEL_75a3b911d5474cd6bd03fd21b3753d7d",
            "_dom_classes": [],
            "zoom_animation_threshold": 4,
            "_model_name": "LeafletMapModel",
            "zoom_start": 12,
            "modisdate": "2022-02-23",
            "keyboard_zoom_offset": 1,
            "inertia_deceleration": 3000,
            "inertia": true,
            "crs": {
              "name": "EPSG3857",
              "custom": false
            },
            "center": [
              -20.15974285042652,
              -52.28805541992188
            ],
            "zoom": 11,
            "world_copy_jump": false,
            "_view_module_version": "^0.15.0",
            "window_url": "https://8jx5ppk6x2k-496ff2e9c6d22116-0-colab.googleusercontent.com/outputframe.html?vrz=colab-20220222-060103-RC01_430258751",
            "tap_tolerance": 15,
            "west": -52.87445068359376,
            "touch_zoom": true,
            "options": [
              "bounce_at_zoom_limits",
              "box_zoom",
              "center",
              "close_popup_on_click",
              "double_click_zoom",
              "dragging",
              "fullscreen",
              "inertia",
              "inertia_deceleration",
              "inertia_max_speed",
              "interpolation",
              "keyboard",
              "keyboard_pan_offset",
              "keyboard_zoom_offset",
              "max_zoom",
              "min_zoom",
              "prefer_canvas",
              "scroll_wheel_zoom",
              "tap",
              "tap_tolerance",
              "touch_zoom",
              "world_copy_jump",
              "zoom",
              "zoom_animation_threshold",
              "zoom_delta",
              "zoom_snap",
              "zoom_start"
            ],
            "south": -20.35299626638458,
            "left": 185140,
            "_dragging": false
          }
        },
        "6302f7fe90cf4495a7910fb7b9308909": {
          "model_module": "jupyter-leaflet",
          "model_name": "LeafletMapStyleModel",
          "model_module_version": "^0.15.0",
          "state": {
            "_view_name": "StyleView",
            "_model_name": "LeafletMapStyleModel",
            "_view_module": "@jupyter-widgets/base",
            "_model_module_version": "^0.15.0",
            "_view_count": null,
            "cursor": "grab",
            "_view_module_version": "1.2.0",
            "_model_module": "jupyter-leaflet"
          }
        },
        "4cff3ab5ad144ce098cd477214761bd4": {
          "model_module": "@jupyter-widgets/base",
          "model_name": "LayoutModel",
          "model_module_version": "1.2.0",
          "state": {
            "_view_name": "LayoutView",
            "grid_template_rows": null,
            "right": null,
            "justify_content": null,
            "_view_module": "@jupyter-widgets/base",
            "overflow": null,
            "_model_module_version": "1.2.0",
            "_view_count": null,
            "flex_flow": null,
            "width": null,
            "min_width": null,
            "border": null,
            "align_items": null,
            "bottom": null,
            "_model_module": "@jupyter-widgets/base",
            "top": null,
            "grid_column": null,
            "overflow_y": null,
            "overflow_x": null,
            "grid_auto_flow": null,
            "grid_area": null,
            "grid_template_columns": null,
            "flex": null,
            "_model_name": "LayoutModel",
            "justify_items": null,
            "grid_row": null,
            "max_height": null,
            "align_content": null,
            "visibility": null,
            "align_self": null,
            "height": "600px",
            "min_height": null,
            "padding": null,
            "grid_auto_rows": null,
            "grid_gap": null,
            "max_width": null,
            "order": null,
            "_view_module_version": "1.2.0",
            "grid_template_areas": null,
            "object_position": null,
            "object_fit": null,
            "grid_auto_columns": null,
            "margin": null,
            "display": null,
            "left": null
          }
        },
        "ad69cd7a302b4c9582cb31a4289ba3be": {
          "model_module": "jupyter-leaflet",
          "model_name": "LeafletWidgetControlModel",
          "model_module_version": "^0.15.0",
          "state": {
            "_view_name": "LeafletWidgetControlView",
            "widget": "IPY_MODEL_a4c910847da24857a160901807773731",
            "_model_name": "LeafletWidgetControlModel",
            "_view_module": "jupyter-leaflet",
            "_model_module_version": "^0.15.0",
            "max_height": null,
            "_view_count": null,
            "min_height": null,
            "_view_module_version": "^0.15.0",
            "max_width": null,
            "transparent_bg": false,
            "min_width": null,
            "position": "topleft",
            "_model_module": "jupyter-leaflet",
            "options": [
              "position",
              "transparent_bg"
            ]
          }
        },
        "2eb7ae56de1141c18f74535a482f384b": {
          "model_module": "jupyter-leaflet",
          "model_name": "LeafletZoomControlModel",
          "model_module_version": "^0.15.0",
          "state": {
            "_view_name": "LeafletZoomControlView",
            "zoom_in_title": "Zoom in",
            "_model_name": "LeafletZoomControlModel",
            "_view_module": "jupyter-leaflet",
            "_model_module_version": "^0.15.0",
            "_view_count": null,
            "_view_module_version": "^0.15.0",
            "zoom_out_title": "Zoom out",
            "position": "topleft",
            "zoom_in_text": "+",
            "_model_module": "jupyter-leaflet",
            "options": [
              "position",
              "zoom_in_text",
              "zoom_in_title",
              "zoom_out_text",
              "zoom_out_title"
            ],
            "zoom_out_text": "-"
          }
        },
        "965cb80689104f2cae5a56eec78ce91f": {
          "model_module": "jupyter-leaflet",
          "model_name": "LeafletScaleControlModel",
          "model_module_version": "^0.15.0",
          "state": {
            "_view_name": "LeafletScaleControlView",
            "_model_name": "LeafletScaleControlModel",
            "metric": true,
            "_view_module": "jupyter-leaflet",
            "_model_module_version": "^0.15.0",
            "max_width": 100,
            "_view_count": null,
            "_view_module_version": "^0.15.0",
            "update_when_idle": false,
            "position": "bottomleft",
            "imperial": true,
            "_model_module": "jupyter-leaflet",
            "options": [
              "imperial",
              "max_width",
              "metric",
              "position",
              "update_when_idle"
            ]
          }
        },
        "e4f588a10f764e66a7894a42c0909467": {
          "model_module": "jupyter-leaflet",
          "model_name": "LeafletFullScreenControlModel",
          "model_module_version": "^0.15.0",
          "state": {
            "_view_name": "LeafletFullScreenControlView",
            "_model_name": "LeafletFullScreenControlModel",
            "_view_module": "jupyter-leaflet",
            "_model_module_version": "^0.15.0",
            "_view_count": null,
            "_view_module_version": "^0.15.0",
            "position": "topleft",
            "_model_module": "jupyter-leaflet",
            "options": [
              "position"
            ]
          }
        },
        "b2d0418f0edd4702b208971eed3a3219": {
          "model_module": "jupyter-leaflet",
          "model_name": "LeafletMeasureControlModel",
          "model_module_version": "^0.15.0",
          "state": {
            "_view_name": "LeafletMeasureControlView",
            "primary_area_unit": "acres",
            "capture_z_index": 10000,
            "secondary_area_unit": null,
            "primary_length_unit": "kilometers",
            "active_color": "orange",
            "_model_name": "LeafletMeasureControlModel",
            "popup_options": {
              "className": "leaflet-measure-resultpopup",
              "autoPanPadding": [
                10,
                10
              ]
            },
            "_view_module": "jupyter-leaflet",
            "_model_module_version": "^0.15.0",
            "_view_count": null,
            "_view_module_version": "^0.15.0",
            "secondary_length_unit": null,
            "completed_color": "#C8F2BE",
            "position": "bottomleft",
            "_model_module": "jupyter-leaflet",
            "options": [
              "active_color",
              "capture_z_index",
              "completed_color",
              "popup_options",
              "position",
              "primary_area_unit",
              "primary_length_unit",
              "secondary_area_unit",
              "secondary_length_unit"
            ],
            "_custom_units": {}
          }
        },
        "7eba3b6ff6794ebdab45bd7724ec1492": {
          "model_module": "jupyter-leaflet",
          "model_name": "LeafletAttributionControlModel",
          "model_module_version": "^0.15.0",
          "state": {
            "_view_name": "LeafletAttributionControlView",
            "prefix": "ipyleaflet",
            "_model_name": "LeafletAttributionControlModel",
            "_view_module": "jupyter-leaflet",
            "_model_module_version": "^0.15.0",
            "_view_count": null,
            "_view_module_version": "^0.15.0",
            "position": "bottomright",
            "_model_module": "jupyter-leaflet",
            "options": [
              "position",
              "prefix"
            ]
          }
        },
        "970a507509d149609cbef64f1b5a996b": {
          "model_module": "jupyter-leaflet",
          "model_name": "LeafletDrawControlModel",
          "model_module_version": "^0.15.0",
          "state": {
            "_view_name": "LeafletDrawControlView",
            "polygon": {
              "shapeOptions": {}
            },
            "circlemarker": {},
            "_model_name": "LeafletDrawControlModel",
            "edit": true,
            "data": [],
            "_view_module": "jupyter-leaflet",
            "_model_module_version": "^0.15.0",
            "remove": true,
            "_view_count": null,
            "_view_module_version": "^0.15.0",
            "polyline": {
              "shapeOptions": {}
            },
            "marker": {
              "shapeOptions": {
                "color": "#3388ff"
              }
            },
            "position": "topleft",
            "circle": {
              "shapeOptions": {
                "color": "#3388ff"
              }
            },
            "_model_module": "jupyter-leaflet",
            "options": [
              "position"
            ],
            "rectangle": {
              "shapeOptions": {
                "color": "#3388ff"
              }
            }
          }
        },
        "943ddd276a7443f191b000a2c50685a0": {
          "model_module": "jupyter-leaflet",
          "model_name": "LeafletWidgetControlModel",
          "model_module_version": "^0.15.0",
          "state": {
            "_view_name": "LeafletWidgetControlView",
            "widget": "IPY_MODEL_a819778507d44082b65ea9e3821499f6",
            "_model_name": "LeafletWidgetControlModel",
            "_view_module": "jupyter-leaflet",
            "_model_module_version": "^0.15.0",
            "max_height": null,
            "_view_count": null,
            "min_height": null,
            "_view_module_version": "^0.15.0",
            "max_width": null,
            "transparent_bg": false,
            "min_width": null,
            "position": "topright",
            "_model_module": "jupyter-leaflet",
            "options": [
              "position",
              "transparent_bg"
            ]
          }
        },
        "0968c9ea6fff4ea0812dda56be24acb5": {
          "model_module": "jupyter-leaflet",
          "model_name": "LeafletMapStyleModel",
          "model_module_version": "^0.15.0",
          "state": {
            "_view_name": "StyleView",
            "_model_name": "LeafletMapStyleModel",
            "_view_module": "@jupyter-widgets/base",
            "_model_module_version": "^0.15.0",
            "_view_count": null,
            "cursor": "grab",
            "_view_module_version": "1.2.0",
            "_model_module": "jupyter-leaflet"
          }
        },
        "57b9a50d83dc4e40b536014cb9a4d260": {
          "model_module": "jupyter-leaflet",
          "model_name": "LeafletTileLayerModel",
          "model_module_version": "^0.15.0",
          "state": {
            "_view_name": "LeafletTileLayerView",
            "_view_module": "jupyter-leaflet",
            "max_zoom": 19,
            "_model_module_version": "^0.15.0",
            "_view_count": null,
            "visible": true,
            "min_zoom": 1,
            "tms": false,
            "_model_module": "jupyter-leaflet",
            "loading": false,
            "bottom": true,
            "no_wrap": false,
            "tile_size": 256,
            "popup_min_width": 50,
            "opacity": 1,
            "popup": null,
            "attribution": "&copy; <a href=\"https://www.openstreetmap.org/copyright\">OpenStreetMap</a> contributors",
            "_model_name": "LeafletTileLayerModel",
            "max_native_zoom": 18,
            "base": true,
            "min_native_zoom": 0,
            "show_loading": false,
            "name": "OpenStreetMap.Mapnik",
            "url": "https://a.tile.openstreetmap.org/{z}/{x}/{y}.png",
            "popup_max_height": null,
            "popup_max_width": 300,
            "detect_retina": false,
            "_view_module_version": "^0.15.0",
            "options": [
              "attribution",
              "detect_retina",
              "max_native_zoom",
              "max_zoom",
              "min_native_zoom",
              "min_zoom",
              "no_wrap",
              "tile_size",
              "tms"
            ]
          }
        },
        "b549704555734c84b68e9342f4c16aee": {
          "model_module": "jupyter-leaflet",
          "model_name": "LeafletTileLayerModel",
          "model_module_version": "^0.15.0",
          "state": {
            "_view_name": "LeafletTileLayerView",
            "_view_module": "jupyter-leaflet",
            "max_zoom": 22,
            "_model_module_version": "^0.15.0",
            "_view_count": null,
            "visible": true,
            "min_zoom": 0,
            "tms": false,
            "_model_module": "jupyter-leaflet",
            "loading": false,
            "bottom": true,
            "no_wrap": false,
            "tile_size": 256,
            "popup_min_width": 50,
            "opacity": 1,
            "popup": null,
            "attribution": "Google",
            "_model_name": "LeafletTileLayerModel",
            "max_native_zoom": 18,
            "base": false,
            "min_native_zoom": 0,
            "show_loading": false,
            "name": "Google Maps",
            "url": "https://mt1.google.com/vt/lyrs=m&x={x}&y={y}&z={z}",
            "popup_max_height": null,
            "popup_max_width": 300,
            "detect_retina": false,
            "_view_module_version": "^0.15.0",
            "options": [
              "attribution",
              "detect_retina",
              "max_native_zoom",
              "max_zoom",
              "min_native_zoom",
              "min_zoom",
              "no_wrap",
              "tile_size",
              "tms"
            ]
          }
        },
        "ecab9015fc4c494cb5dad0d24ca53ec1": {
          "model_module": "jupyter-leaflet",
          "model_name": "LeafletTileLayerModel",
          "model_module_version": "^0.15.0",
          "state": {
            "_view_name": "LeafletTileLayerView",
            "_view_module": "jupyter-leaflet",
            "max_zoom": 24,
            "_model_module_version": "^0.15.0",
            "_view_count": null,
            "visible": true,
            "min_zoom": 0,
            "tms": false,
            "_model_module": "jupyter-leaflet",
            "loading": false,
            "bottom": true,
            "no_wrap": false,
            "tile_size": 256,
            "popup_min_width": 50,
            "opacity": 1,
            "popup": null,
            "attribution": "Google Earth Engine",
            "_model_name": "LeafletTileLayerModel",
            "max_native_zoom": 18,
            "base": false,
            "min_native_zoom": 0,
            "show_loading": false,
            "name": "MODIS - 2019",
            "url": "https://earthengine.googleapis.com/v1alpha/projects/earthengine-legacy/maps/9b0763d7cbe750b10fa40017593303a2-0aa0825bdcc23ef058530b681aa84348/tiles/{z}/{x}/{y}",
            "popup_max_height": null,
            "popup_max_width": 300,
            "detect_retina": false,
            "_view_module_version": "^0.15.0",
            "options": [
              "attribution",
              "detect_retina",
              "max_native_zoom",
              "max_zoom",
              "min_native_zoom",
              "min_zoom",
              "no_wrap",
              "tile_size",
              "tms"
            ]
          }
        },
        "9fe482ee2e2b40fd9dd339d411303cc3": {
          "model_module": "jupyter-leaflet",
          "model_name": "LeafletTileLayerModel",
          "model_module_version": "^0.15.0",
          "state": {
            "_view_name": "LeafletTileLayerView",
            "_view_module": "jupyter-leaflet",
            "max_zoom": 24,
            "_model_module_version": "^0.15.0",
            "_view_count": null,
            "visible": true,
            "min_zoom": 0,
            "tms": false,
            "_model_module": "jupyter-leaflet",
            "loading": false,
            "bottom": true,
            "no_wrap": false,
            "tile_size": 256,
            "popup_min_width": 50,
            "opacity": 1,
            "popup": null,
            "attribution": "Google Earth Engine",
            "_model_name": "LeafletTileLayerModel",
            "max_native_zoom": 18,
            "base": false,
            "min_native_zoom": 0,
            "show_loading": false,
            "name": "Amostras",
            "url": "https://earthengine.googleapis.com/v1alpha/projects/earthengine-legacy/maps/ac986a09e9ebfe657273bed858c578e0-ed0c29d35fb8171701e915de1118599b/tiles/{z}/{x}/{y}",
            "popup_max_height": null,
            "popup_max_width": 300,
            "detect_retina": false,
            "_view_module_version": "^0.15.0",
            "options": [
              "attribution",
              "detect_retina",
              "max_native_zoom",
              "max_zoom",
              "min_native_zoom",
              "min_zoom",
              "no_wrap",
              "tile_size",
              "tms"
            ]
          }
        },
        "b1913e48a5e543689b4cea37d9ec23e0": {
          "model_module": "jupyter-leaflet",
          "model_name": "LeafletTileLayerModel",
          "model_module_version": "^0.15.0",
          "state": {
            "_view_name": "LeafletTileLayerView",
            "_view_module": "jupyter-leaflet",
            "max_zoom": 24,
            "_model_module_version": "^0.15.0",
            "_view_count": null,
            "visible": true,
            "min_zoom": 0,
            "tms": false,
            "_model_module": "jupyter-leaflet",
            "loading": false,
            "bottom": true,
            "no_wrap": false,
            "tile_size": 256,
            "popup_min_width": 50,
            "opacity": 1,
            "popup": null,
            "attribution": "Google Earth Engine",
            "_model_name": "LeafletTileLayerModel",
            "max_native_zoom": 18,
            "base": false,
            "min_native_zoom": 0,
            "show_loading": false,
            "name": "Área de Estudo",
            "url": "https://earthengine.googleapis.com/v1alpha/projects/earthengine-legacy/maps/bf5e7f5f40e1bd5154f432893721fc54-30b0eb0fee8f9fe07d51f27c3823d975/tiles/{z}/{x}/{y}",
            "popup_max_height": null,
            "popup_max_width": 300,
            "detect_retina": false,
            "_view_module_version": "^0.15.0",
            "options": [
              "attribution",
              "detect_retina",
              "max_native_zoom",
              "max_zoom",
              "min_native_zoom",
              "min_zoom",
              "no_wrap",
              "tile_size",
              "tms"
            ]
          }
        },
        "75a3b911d5474cd6bd03fd21b3753d7d": {
          "model_module": "jupyter-leaflet",
          "model_name": "LeafletMapStyleModel",
          "model_module_version": "^0.15.0",
          "state": {
            "_view_name": "StyleView",
            "_model_name": "LeafletMapStyleModel",
            "_view_module": "@jupyter-widgets/base",
            "_model_module_version": "^0.15.0",
            "_view_count": null,
            "cursor": "move",
            "_view_module_version": "1.2.0",
            "_model_module": "jupyter-leaflet"
          }
        },
        "a4c910847da24857a160901807773731": {
          "model_module": "@jupyter-widgets/controls",
          "model_name": "HBoxModel",
          "model_module_version": "1.5.0",
          "state": {
            "_view_name": "HBoxView",
            "_dom_classes": [],
            "_model_name": "HBoxModel",
            "_view_module": "@jupyter-widgets/controls",
            "_model_module_version": "1.5.0",
            "_view_count": null,
            "_view_module_version": "1.5.0",
            "box_style": "",
            "layout": "IPY_MODEL_ead4e6a458004f9696abbad55f04fd9d",
            "_model_module": "@jupyter-widgets/controls",
            "children": [
              "IPY_MODEL_6e7ef24ce2b34e5a88b4c62643a841a5"
            ]
          }
        },
        "a819778507d44082b65ea9e3821499f6": {
          "model_module": "@jupyter-widgets/controls",
          "model_name": "VBoxModel",
          "model_module_version": "1.5.0",
          "state": {
            "_view_name": "VBoxView",
            "_dom_classes": [],
            "_model_name": "VBoxModel",
            "_view_module": "@jupyter-widgets/controls",
            "_model_module_version": "1.5.0",
            "_view_count": null,
            "_view_module_version": "1.5.0",
            "box_style": "",
            "layout": "IPY_MODEL_38d9f0b66761484fbdb73fbb0eaa4ffb",
            "_model_module": "@jupyter-widgets/controls",
            "children": [
              "IPY_MODEL_5b9d493e0710453588fce09d480fae8e"
            ]
          }
        },
        "ead4e6a458004f9696abbad55f04fd9d": {
          "model_module": "@jupyter-widgets/base",
          "model_name": "LayoutModel",
          "model_module_version": "1.2.0",
          "state": {
            "_view_name": "LayoutView",
            "grid_template_rows": null,
            "right": null,
            "justify_content": null,
            "_view_module": "@jupyter-widgets/base",
            "overflow": null,
            "_model_module_version": "1.2.0",
            "_view_count": null,
            "flex_flow": null,
            "width": null,
            "min_width": null,
            "border": null,
            "align_items": null,
            "bottom": null,
            "_model_module": "@jupyter-widgets/base",
            "top": null,
            "grid_column": null,
            "overflow_y": null,
            "overflow_x": null,
            "grid_auto_flow": null,
            "grid_area": null,
            "grid_template_columns": null,
            "flex": null,
            "_model_name": "LayoutModel",
            "justify_items": null,
            "grid_row": null,
            "max_height": null,
            "align_content": null,
            "visibility": null,
            "align_self": null,
            "height": null,
            "min_height": null,
            "padding": null,
            "grid_auto_rows": null,
            "grid_gap": null,
            "max_width": null,
            "order": null,
            "_view_module_version": "1.2.0",
            "grid_template_areas": null,
            "object_position": null,
            "object_fit": null,
            "grid_auto_columns": null,
            "margin": null,
            "display": null,
            "left": null
          }
        },
        "6e7ef24ce2b34e5a88b4c62643a841a5": {
          "model_module": "@jupyter-widgets/controls",
          "model_name": "ToggleButtonModel",
          "model_module_version": "1.5.0",
          "state": {
            "_view_name": "ToggleButtonView",
            "style": "IPY_MODEL_4e727933499c4e7ab09e1b2db3362d34",
            "_dom_classes": [],
            "description": "",
            "_model_name": "ToggleButtonModel",
            "button_style": "",
            "_view_module": "@jupyter-widgets/controls",
            "_model_module_version": "1.5.0",
            "tooltip": "Search location/data",
            "_view_count": null,
            "disabled": false,
            "_view_module_version": "1.5.0",
            "value": false,
            "description_tooltip": null,
            "_model_module": "@jupyter-widgets/controls",
            "layout": "IPY_MODEL_bd15fae78d21447e8c5eba3c97b4e5c2",
            "icon": "globe"
          }
        },
        "38d9f0b66761484fbdb73fbb0eaa4ffb": {
          "model_module": "@jupyter-widgets/base",
          "model_name": "LayoutModel",
          "model_module_version": "1.2.0",
          "state": {
            "_view_name": "LayoutView",
            "grid_template_rows": null,
            "right": null,
            "justify_content": null,
            "_view_module": "@jupyter-widgets/base",
            "overflow": null,
            "_model_module_version": "1.2.0",
            "_view_count": null,
            "flex_flow": null,
            "width": null,
            "min_width": null,
            "border": null,
            "align_items": null,
            "bottom": null,
            "_model_module": "@jupyter-widgets/base",
            "top": null,
            "grid_column": null,
            "overflow_y": null,
            "overflow_x": null,
            "grid_auto_flow": null,
            "grid_area": null,
            "grid_template_columns": null,
            "flex": null,
            "_model_name": "LayoutModel",
            "justify_items": null,
            "grid_row": null,
            "max_height": null,
            "align_content": null,
            "visibility": null,
            "align_self": null,
            "height": null,
            "min_height": null,
            "padding": null,
            "grid_auto_rows": null,
            "grid_gap": null,
            "max_width": null,
            "order": null,
            "_view_module_version": "1.2.0",
            "grid_template_areas": null,
            "object_position": null,
            "object_fit": null,
            "grid_auto_columns": null,
            "margin": null,
            "display": null,
            "left": null
          }
        },
        "5b9d493e0710453588fce09d480fae8e": {
          "model_module": "@jupyter-widgets/controls",
          "model_name": "ToggleButtonModel",
          "model_module_version": "1.5.0",
          "state": {
            "_view_name": "ToggleButtonView",
            "style": "IPY_MODEL_b56f11d476044082a04600566eb1d9dd",
            "_dom_classes": [],
            "description": "",
            "_model_name": "ToggleButtonModel",
            "button_style": "",
            "_view_module": "@jupyter-widgets/controls",
            "_model_module_version": "1.5.0",
            "tooltip": "Toolbar",
            "_view_count": null,
            "disabled": false,
            "_view_module_version": "1.5.0",
            "value": false,
            "description_tooltip": null,
            "_model_module": "@jupyter-widgets/controls",
            "layout": "IPY_MODEL_a8af6dc818c541f3b0243c92c27e0f9e",
            "icon": "wrench"
          }
        },
        "4e727933499c4e7ab09e1b2db3362d34": {
          "model_module": "@jupyter-widgets/controls",
          "model_name": "DescriptionStyleModel",
          "model_module_version": "1.5.0",
          "state": {
            "_view_name": "StyleView",
            "_model_name": "DescriptionStyleModel",
            "description_width": "",
            "_view_module": "@jupyter-widgets/base",
            "_model_module_version": "1.5.0",
            "_view_count": null,
            "_view_module_version": "1.2.0",
            "_model_module": "@jupyter-widgets/controls"
          }
        },
        "bd15fae78d21447e8c5eba3c97b4e5c2": {
          "model_module": "@jupyter-widgets/base",
          "model_name": "LayoutModel",
          "model_module_version": "1.2.0",
          "state": {
            "_view_name": "LayoutView",
            "grid_template_rows": null,
            "right": null,
            "justify_content": null,
            "_view_module": "@jupyter-widgets/base",
            "overflow": null,
            "_model_module_version": "1.2.0",
            "_view_count": null,
            "flex_flow": null,
            "width": "28px",
            "min_width": null,
            "border": null,
            "align_items": null,
            "bottom": null,
            "_model_module": "@jupyter-widgets/base",
            "top": null,
            "grid_column": null,
            "overflow_y": null,
            "overflow_x": null,
            "grid_auto_flow": null,
            "grid_area": null,
            "grid_template_columns": null,
            "flex": null,
            "_model_name": "LayoutModel",
            "justify_items": null,
            "grid_row": null,
            "max_height": null,
            "align_content": null,
            "visibility": null,
            "align_self": null,
            "height": "28px",
            "min_height": null,
            "padding": "0px 0px 0px 4px",
            "grid_auto_rows": null,
            "grid_gap": null,
            "max_width": null,
            "order": null,
            "_view_module_version": "1.2.0",
            "grid_template_areas": null,
            "object_position": null,
            "object_fit": null,
            "grid_auto_columns": null,
            "margin": null,
            "display": null,
            "left": null
          }
        },
        "b56f11d476044082a04600566eb1d9dd": {
          "model_module": "@jupyter-widgets/controls",
          "model_name": "DescriptionStyleModel",
          "model_module_version": "1.5.0",
          "state": {
            "_view_name": "StyleView",
            "_model_name": "DescriptionStyleModel",
            "description_width": "",
            "_view_module": "@jupyter-widgets/base",
            "_model_module_version": "1.5.0",
            "_view_count": null,
            "_view_module_version": "1.2.0",
            "_model_module": "@jupyter-widgets/controls"
          }
        },
        "a8af6dc818c541f3b0243c92c27e0f9e": {
          "model_module": "@jupyter-widgets/base",
          "model_name": "LayoutModel",
          "model_module_version": "1.2.0",
          "state": {
            "_view_name": "LayoutView",
            "grid_template_rows": null,
            "right": null,
            "justify_content": null,
            "_view_module": "@jupyter-widgets/base",
            "overflow": null,
            "_model_module_version": "1.2.0",
            "_view_count": null,
            "flex_flow": null,
            "width": "28px",
            "min_width": null,
            "border": null,
            "align_items": null,
            "bottom": null,
            "_model_module": "@jupyter-widgets/base",
            "top": null,
            "grid_column": null,
            "overflow_y": null,
            "overflow_x": null,
            "grid_auto_flow": null,
            "grid_area": null,
            "grid_template_columns": null,
            "flex": null,
            "_model_name": "LayoutModel",
            "justify_items": null,
            "grid_row": null,
            "max_height": null,
            "align_content": null,
            "visibility": null,
            "align_self": null,
            "height": "28px",
            "min_height": null,
            "padding": "0px 0px 0px 4px",
            "grid_auto_rows": null,
            "grid_gap": null,
            "max_width": null,
            "order": null,
            "_view_module_version": "1.2.0",
            "grid_template_areas": null,
            "object_position": null,
            "object_fit": null,
            "grid_auto_columns": null,
            "margin": null,
            "display": null,
            "left": null
          }
        },
        "8b8f526fc7b64f66962fa8002925e700": {
          "model_module": "@jupyter-widgets/controls",
          "model_name": "HTMLModel",
          "model_module_version": "1.5.0",
          "state": {
            "_view_name": "HTMLView",
            "style": "IPY_MODEL_ae521b8927be44489a795551c00b840c",
            "_dom_classes": [],
            "description": "",
            "_model_name": "HTMLModel",
            "placeholder": "​",
            "_view_module": "@jupyter-widgets/controls",
            "_model_module_version": "1.5.0",
            "value": "<embed src=data:image/svg+xml;charset=utf-8;base64,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 width=40%></embed>",
            "_view_count": null,
            "_view_module_version": "1.5.0",
            "description_tooltip": null,
            "_model_module": "@jupyter-widgets/controls",
            "layout": "IPY_MODEL_817ac73313374e58b2dd9c8a459340e9"
          }
        },
        "ae521b8927be44489a795551c00b840c": {
          "model_module": "@jupyter-widgets/controls",
          "model_name": "DescriptionStyleModel",
          "model_module_version": "1.5.0",
          "state": {
            "_view_name": "StyleView",
            "_model_name": "DescriptionStyleModel",
            "description_width": "",
            "_view_module": "@jupyter-widgets/base",
            "_model_module_version": "1.5.0",
            "_view_count": null,
            "_view_module_version": "1.2.0",
            "_model_module": "@jupyter-widgets/controls"
          }
        },
        "817ac73313374e58b2dd9c8a459340e9": {
          "model_module": "@jupyter-widgets/base",
          "model_name": "LayoutModel",
          "model_module_version": "1.2.0",
          "state": {
            "_view_name": "LayoutView",
            "grid_template_rows": null,
            "right": null,
            "justify_content": null,
            "_view_module": "@jupyter-widgets/base",
            "overflow": null,
            "_model_module_version": "1.2.0",
            "_view_count": null,
            "flex_flow": null,
            "width": null,
            "min_width": null,
            "border": null,
            "align_items": null,
            "bottom": null,
            "_model_module": "@jupyter-widgets/base",
            "top": null,
            "grid_column": null,
            "overflow_y": null,
            "overflow_x": null,
            "grid_auto_flow": null,
            "grid_area": null,
            "grid_template_columns": null,
            "flex": null,
            "_model_name": "LayoutModel",
            "justify_items": null,
            "grid_row": null,
            "max_height": null,
            "align_content": null,
            "visibility": null,
            "align_self": null,
            "height": null,
            "min_height": null,
            "padding": null,
            "grid_auto_rows": null,
            "grid_gap": null,
            "max_width": null,
            "order": null,
            "_view_module_version": "1.2.0",
            "grid_template_areas": null,
            "object_position": null,
            "object_fit": null,
            "grid_auto_columns": null,
            "margin": null,
            "display": null,
            "left": null
          }
        },
        "a6d615d7a2fb4287bc6b4d5e502c2ce0": {
          "model_module": "@jupyter-widgets/controls",
          "model_name": "IntProgressModel",
          "model_module_version": "1.5.0",
          "state": {
            "_view_name": "ProgressView",
            "style": "IPY_MODEL_986d819524444e1da3854901d2596417",
            "_dom_classes": [],
            "description": "Processing: ",
            "_model_name": "IntProgressModel",
            "bar_style": "",
            "max": 3,
            "_view_module": "@jupyter-widgets/controls",
            "_model_module_version": "1.5.0",
            "value": 3,
            "_view_count": null,
            "_view_module_version": "1.5.0",
            "orientation": "horizontal",
            "min": 0,
            "description_tooltip": null,
            "_model_module": "@jupyter-widgets/controls",
            "layout": "IPY_MODEL_af2ed63bbb724dcba4037eb09781ed7b"
          }
        },
        "986d819524444e1da3854901d2596417": {
          "model_module": "@jupyter-widgets/controls",
          "model_name": "ProgressStyleModel",
          "model_module_version": "1.5.0",
          "state": {
            "_view_name": "StyleView",
            "_model_name": "ProgressStyleModel",
            "description_width": "",
            "_view_module": "@jupyter-widgets/base",
            "_model_module_version": "1.5.0",
            "_view_count": null,
            "_view_module_version": "1.2.0",
            "bar_color": null,
            "_model_module": "@jupyter-widgets/controls"
          }
        },
        "af2ed63bbb724dcba4037eb09781ed7b": {
          "model_module": "@jupyter-widgets/base",
          "model_name": "LayoutModel",
          "model_module_version": "1.2.0",
          "state": {
            "_view_name": "LayoutView",
            "grid_template_rows": null,
            "right": null,
            "justify_content": null,
            "_view_module": "@jupyter-widgets/base",
            "overflow": null,
            "_model_module_version": "1.2.0",
            "_view_count": null,
            "flex_flow": null,
            "width": null,
            "min_width": null,
            "border": null,
            "align_items": null,
            "bottom": null,
            "_model_module": "@jupyter-widgets/base",
            "top": null,
            "grid_column": null,
            "overflow_y": null,
            "overflow_x": null,
            "grid_auto_flow": null,
            "grid_area": null,
            "grid_template_columns": null,
            "flex": null,
            "_model_name": "LayoutModel",
            "justify_items": null,
            "grid_row": null,
            "max_height": null,
            "align_content": null,
            "visibility": null,
            "align_self": null,
            "height": null,
            "min_height": null,
            "padding": null,
            "grid_auto_rows": null,
            "grid_gap": null,
            "max_width": null,
            "order": null,
            "_view_module_version": "1.2.0",
            "grid_template_areas": null,
            "object_position": null,
            "object_fit": null,
            "grid_auto_columns": null,
            "margin": null,
            "display": null,
            "left": null
          }
        },
        "d0695ce9e00b40feb4a3930329efd238": {
          "model_module": "@jupyter-widgets/controls",
          "model_name": "TextModel",
          "model_module_version": "1.5.0",
          "state": {
            "_view_name": "TextView",
            "style": "IPY_MODEL_a594c2c7b87b4cbb82568a8730fd38c9",
            "_dom_classes": [],
            "description": "",
            "_model_name": "TextModel",
            "placeholder": "​",
            "_view_module": "@jupyter-widgets/controls",
            "_model_module_version": "1.5.0",
            "value": "Following data types have been inferred automatically, if they are correct press enter to continue or type 'quit' otherwise.",
            "_view_count": null,
            "disabled": false,
            "_view_module_version": "1.5.0",
            "continuous_update": true,
            "description_tooltip": null,
            "_model_module": "@jupyter-widgets/controls",
            "layout": "IPY_MODEL_6b25bfc9cfe543ceaf259a43f21ecce3"
          }
        },
        "a594c2c7b87b4cbb82568a8730fd38c9": {
          "model_module": "@jupyter-widgets/controls",
          "model_name": "DescriptionStyleModel",
          "model_module_version": "1.5.0",
          "state": {
            "_view_name": "StyleView",
            "_model_name": "DescriptionStyleModel",
            "description_width": "",
            "_view_module": "@jupyter-widgets/base",
            "_model_module_version": "1.5.0",
            "_view_count": null,
            "_view_module_version": "1.2.0",
            "_model_module": "@jupyter-widgets/controls"
          }
        },
        "6b25bfc9cfe543ceaf259a43f21ecce3": {
          "model_module": "@jupyter-widgets/base",
          "model_name": "LayoutModel",
          "model_module_version": "1.2.0",
          "state": {
            "_view_name": "LayoutView",
            "grid_template_rows": null,
            "right": null,
            "justify_content": null,
            "_view_module": "@jupyter-widgets/base",
            "overflow": null,
            "_model_module_version": "1.2.0",
            "_view_count": null,
            "flex_flow": null,
            "width": "100%",
            "min_width": null,
            "border": null,
            "align_items": null,
            "bottom": null,
            "_model_module": "@jupyter-widgets/base",
            "top": null,
            "grid_column": null,
            "overflow_y": null,
            "overflow_x": null,
            "grid_auto_flow": null,
            "grid_area": null,
            "grid_template_columns": null,
            "flex": null,
            "_model_name": "LayoutModel",
            "justify_items": null,
            "grid_row": null,
            "max_height": null,
            "align_content": null,
            "visibility": null,
            "align_self": null,
            "height": null,
            "min_height": null,
            "padding": null,
            "grid_auto_rows": null,
            "grid_gap": null,
            "max_width": null,
            "order": null,
            "_view_module_version": "1.2.0",
            "grid_template_areas": null,
            "object_position": null,
            "object_fit": null,
            "grid_auto_columns": null,
            "margin": null,
            "display": null,
            "left": null
          }
        },
        "f750b57bbb5a46279aceb5efd6ed08f9": {
          "model_module": "@jupyter-widgets/controls",
          "model_name": "IntProgressModel",
          "model_module_version": "1.5.0",
          "state": {
            "_view_name": "ProgressView",
            "style": "IPY_MODEL_2cf728e084034ad382e77ef4e8f0b53d",
            "_dom_classes": [],
            "description": "Processing: ",
            "_model_name": "IntProgressModel",
            "bar_style": "",
            "max": 3,
            "_view_module": "@jupyter-widgets/controls",
            "_model_module_version": "1.5.0",
            "value": 3,
            "_view_count": null,
            "_view_module_version": "1.5.0",
            "orientation": "horizontal",
            "min": 0,
            "description_tooltip": null,
            "_model_module": "@jupyter-widgets/controls",
            "layout": "IPY_MODEL_8d5a83e27508418abbc995c8a5b14ba7"
          }
        },
        "2cf728e084034ad382e77ef4e8f0b53d": {
          "model_module": "@jupyter-widgets/controls",
          "model_name": "ProgressStyleModel",
          "model_module_version": "1.5.0",
          "state": {
            "_view_name": "StyleView",
            "_model_name": "ProgressStyleModel",
            "description_width": "",
            "_view_module": "@jupyter-widgets/base",
            "_model_module_version": "1.5.0",
            "_view_count": null,
            "_view_module_version": "1.2.0",
            "bar_color": null,
            "_model_module": "@jupyter-widgets/controls"
          }
        },
        "8d5a83e27508418abbc995c8a5b14ba7": {
          "model_module": "@jupyter-widgets/base",
          "model_name": "LayoutModel",
          "model_module_version": "1.2.0",
          "state": {
            "_view_name": "LayoutView",
            "grid_template_rows": null,
            "right": null,
            "justify_content": null,
            "_view_module": "@jupyter-widgets/base",
            "overflow": null,
            "_model_module_version": "1.2.0",
            "_view_count": null,
            "flex_flow": null,
            "width": null,
            "min_width": null,
            "border": null,
            "align_items": null,
            "bottom": null,
            "_model_module": "@jupyter-widgets/base",
            "top": null,
            "grid_column": null,
            "overflow_y": null,
            "overflow_x": null,
            "grid_auto_flow": null,
            "grid_area": null,
            "grid_template_columns": null,
            "flex": null,
            "_model_name": "LayoutModel",
            "justify_items": null,
            "grid_row": null,
            "max_height": null,
            "align_content": null,
            "visibility": null,
            "align_self": null,
            "height": null,
            "min_height": null,
            "padding": null,
            "grid_auto_rows": null,
            "grid_gap": null,
            "max_width": null,
            "order": null,
            "_view_module_version": "1.2.0",
            "grid_template_areas": null,
            "object_position": null,
            "object_fit": null,
            "grid_auto_columns": null,
            "margin": null,
            "display": null,
            "left": null
          }
        },
        "da6c1477ffe64fab812685a7c1cb826a": {
          "model_module": "@jupyter-widgets/controls",
          "model_name": "IntProgressModel",
          "model_module_version": "1.5.0",
          "state": {
            "_view_name": "ProgressView",
            "style": "IPY_MODEL_0461111559034b9d9b1608b58af09bf4",
            "_dom_classes": [],
            "description": "Processing: ",
            "_model_name": "IntProgressModel",
            "bar_style": "",
            "max": 5,
            "_view_module": "@jupyter-widgets/controls",
            "_model_module_version": "1.5.0",
            "value": 3,
            "_view_count": null,
            "_view_module_version": "1.5.0",
            "orientation": "horizontal",
            "min": 0,
            "description_tooltip": null,
            "_model_module": "@jupyter-widgets/controls",
            "layout": "IPY_MODEL_85def3750e65485d972001c9d5eaa401"
          }
        },
        "0461111559034b9d9b1608b58af09bf4": {
          "model_module": "@jupyter-widgets/controls",
          "model_name": "ProgressStyleModel",
          "model_module_version": "1.5.0",
          "state": {
            "_view_name": "StyleView",
            "_model_name": "ProgressStyleModel",
            "description_width": "",
            "_view_module": "@jupyter-widgets/base",
            "_model_module_version": "1.5.0",
            "_view_count": null,
            "_view_module_version": "1.2.0",
            "bar_color": null,
            "_model_module": "@jupyter-widgets/controls"
          }
        },
        "85def3750e65485d972001c9d5eaa401": {
          "model_module": "@jupyter-widgets/base",
          "model_name": "LayoutModel",
          "model_module_version": "1.2.0",
          "state": {
            "_view_name": "LayoutView",
            "grid_template_rows": null,
            "right": null,
            "justify_content": null,
            "_view_module": "@jupyter-widgets/base",
            "overflow": null,
            "_model_module_version": "1.2.0",
            "_view_count": null,
            "flex_flow": null,
            "width": null,
            "min_width": null,
            "border": null,
            "align_items": null,
            "bottom": null,
            "_model_module": "@jupyter-widgets/base",
            "top": null,
            "grid_column": null,
            "overflow_y": null,
            "overflow_x": null,
            "grid_auto_flow": null,
            "grid_area": null,
            "grid_template_columns": null,
            "flex": null,
            "_model_name": "LayoutModel",
            "justify_items": null,
            "grid_row": null,
            "max_height": null,
            "align_content": null,
            "visibility": null,
            "align_self": null,
            "height": null,
            "min_height": null,
            "padding": null,
            "grid_auto_rows": null,
            "grid_gap": null,
            "max_width": null,
            "order": null,
            "_view_module_version": "1.2.0",
            "grid_template_areas": null,
            "object_position": null,
            "object_fit": null,
            "grid_auto_columns": null,
            "margin": null,
            "display": null,
            "left": null
          }
        },
        "07e62a291ea74ce68386bdc072633ed5": {
          "model_module": "@jupyter-widgets/output",
          "model_name": "OutputModel",
          "model_module_version": "1.0.0",
          "state": {
            "_view_name": "OutputView",
            "msg_id": "",
            "_dom_classes": [],
            "_model_name": "OutputModel",
            "outputs": [
              {
                "output_type": "display_data",
                "data": {
                  "application/vnd.jupyter.widget-view+json": {
                    "model_id": "4b57c7d83d9a465fb2287a181fe8149a",
                    "version_minor": 0,
                    "version_major": 2
                  },
                  "text/plain": "Image(value=b'GIF89a\\x00\\x03\\x00\\x03\\x87\\x1f\\x00\\xff\\xff\\xff\\xfe\\xfe\\xfe\\xfd\\xfd\\xfd\\xf9\\xf9\\xf9\\xf4\\xf4\\xf4\\x…"
                },
                "metadata": {
                  "application/vnd.jupyter.widget-view+json": {
                    "colab": {
                      "custom_widget_manager": {
                        "url": "https://ssl.gstatic.com/colaboratory-static/widgets/colab-cdn-widget-manager/a8874ba6619b6106/manager.min.js"
                      }
                    }
                  }
                }
              }
            ],
            "_view_module": "@jupyter-widgets/output",
            "_model_module_version": "1.0.0",
            "_view_count": null,
            "_view_module_version": "1.0.0",
            "layout": "IPY_MODEL_333693f5f6444d26899553083ee08bca",
            "_model_module": "@jupyter-widgets/output"
          }
        },
        "333693f5f6444d26899553083ee08bca": {
          "model_module": "@jupyter-widgets/base",
          "model_name": "LayoutModel",
          "model_module_version": "1.2.0",
          "state": {
            "_view_name": "LayoutView",
            "grid_template_rows": null,
            "right": null,
            "justify_content": null,
            "_view_module": "@jupyter-widgets/base",
            "overflow": null,
            "_model_module_version": "1.2.0",
            "_view_count": null,
            "flex_flow": null,
            "width": null,
            "min_width": null,
            "border": null,
            "align_items": null,
            "bottom": null,
            "_model_module": "@jupyter-widgets/base",
            "top": null,
            "grid_column": null,
            "overflow_y": null,
            "overflow_x": null,
            "grid_auto_flow": null,
            "grid_area": null,
            "grid_template_columns": null,
            "flex": null,
            "_model_name": "LayoutModel",
            "justify_items": null,
            "grid_row": null,
            "max_height": null,
            "align_content": null,
            "visibility": null,
            "align_self": null,
            "height": null,
            "min_height": null,
            "padding": null,
            "grid_auto_rows": null,
            "grid_gap": null,
            "max_width": null,
            "order": null,
            "_view_module_version": "1.2.0",
            "grid_template_areas": null,
            "object_position": null,
            "object_fit": null,
            "grid_auto_columns": null,
            "margin": null,
            "display": null,
            "left": null
          }
        },
        "4b57c7d83d9a465fb2287a181fe8149a": {
          "model_module": "@jupyter-widgets/controls",
          "model_name": "ImageModel",
          "model_module_version": "1.5.0",
          "state": {
            "_view_name": "ImageView",
            "_dom_classes": [],
            "_model_name": "ImageModel",
            "format": "png",
            "_view_module": "@jupyter-widgets/controls",
            "_model_module_version": "1.5.0",
            "_view_count": null,
            "width": "",
            "_view_module_version": "1.5.0",
            "layout": "IPY_MODEL_294cb5775f414260b4941fbf6e019fd2",
            "height": "",
            "_model_module": "@jupyter-widgets/controls"
          }
        },
        "294cb5775f414260b4941fbf6e019fd2": {
          "model_module": "@jupyter-widgets/base",
          "model_name": "LayoutModel",
          "model_module_version": "1.2.0",
          "state": {
            "_view_name": "LayoutView",
            "grid_template_rows": null,
            "right": null,
            "justify_content": null,
            "_view_module": "@jupyter-widgets/base",
            "overflow": null,
            "_model_module_version": "1.2.0",
            "_view_count": null,
            "flex_flow": null,
            "width": null,
            "min_width": null,
            "border": null,
            "align_items": null,
            "bottom": null,
            "_model_module": "@jupyter-widgets/base",
            "top": null,
            "grid_column": null,
            "overflow_y": null,
            "overflow_x": null,
            "grid_auto_flow": null,
            "grid_area": null,
            "grid_template_columns": null,
            "flex": null,
            "_model_name": "LayoutModel",
            "justify_items": null,
            "grid_row": null,
            "max_height": null,
            "align_content": null,
            "visibility": null,
            "align_self": null,
            "height": null,
            "min_height": null,
            "padding": null,
            "grid_auto_rows": null,
            "grid_gap": null,
            "max_width": null,
            "order": null,
            "_view_module_version": "1.2.0",
            "grid_template_areas": null,
            "object_position": null,
            "object_fit": null,
            "grid_auto_columns": null,
            "margin": null,
            "display": null,
            "left": null
          }
        }
      }
    }
  },
  "cells": [
    {
      "cell_type": "markdown",
      "metadata": {
        "id": "view-in-github",
        "colab_type": "text"
      },
      "source": [
        "<a href=\"https://colab.research.google.com/github/Padawanh/WIMyD/blob/main/Anomaly%20Detection%20-%20Identifying%20harvested%20forest%20areas%20with%20the%20GEE%20Python%20API.ipynb\" target=\"_parent\"><img src=\"https://colab.research.google.com/assets/colab-badge.svg\" alt=\"Open In Colab\"/></a>"
      ]
    },
    {
      "cell_type": "markdown",
      "metadata": {
        "id": "EkKNGCg1PgXX"
      },
      "source": [
        "[Baixar dados do projeto](https://drive.google.com/drive/folders/1Ho2UmkDeDMOQzKD9sAHal4eZPZLy1tbh?usp=sharing)"
      ]
    },
    {
      "cell_type": "markdown",
      "metadata": {
        "id": "jfHF7B0EHrgU"
      },
      "source": [
        "\n",
        "\n",
        "# Instalação, carregamento e conexões"
      ]
    },
    {
      "cell_type": "code",
      "metadata": {
        "id": "cIKGvvUTl-H1"
      },
      "source": [
        "!pip install -U pip\n",
        "!pip install geopandas\n",
        "!pip install ipygee\n",
        "!pip install earthengine-api\n",
        "!pip install geemap\n",
        "!pip install pycaret\n",
        "!pip install statsmodels\n"
      ],
      "execution_count": null,
      "outputs": []
    },
    {
      "cell_type": "code",
      "metadata": {
        "id": "xMCXz0DoqwgU"
      },
      "source": [
        "#Para geo ETL\n",
        "import ee\n",
        "from ipygee import*\n",
        "import geopandas as gp\n",
        "import geemap\n",
        "import os\n",
        "import datetime\n",
        "import pandas as pd\n",
        "import matplotlib.pyplot as plt\n",
        "from pycaret.anomaly import setup , create_model , assign_model , plot_model , predict_model , save_model , load_model \n",
        "\n"
      ],
      "execution_count": null,
      "outputs": []
    },
    {
      "cell_type": "markdown",
      "metadata": {
        "id": "vzjTS6cldyUG"
      },
      "source": [
        "Definindo que os gráficos tem que ser plotados no próprio Jupyter Notebook"
      ]
    },
    {
      "cell_type": "code",
      "metadata": {
        "id": "_CYShuWSDht4"
      },
      "source": [
        "%matplotlib inline"
      ],
      "execution_count": 2,
      "outputs": []
    },
    {
      "cell_type": "markdown",
      "metadata": {
        "id": "QeP8zcwcdmhH"
      },
      "source": [
        "Conectando com o Google Earth Engine através da API python"
      ]
    },
    {
      "cell_type": "code",
      "source": [
        "ee.Authenticate()\n",
        "ee.Initialize()\n"
      ],
      "metadata": {
        "id": "t2yGGwDLNWne",
        "colab": {
          "base_uri": "https://localhost:8080/"
        },
        "outputId": "ad21208c-d6f6-4c00-dfba-147322867fac"
      },
      "execution_count": 3,
      "outputs": [
        {
          "output_type": "stream",
          "name": "stdout",
          "text": [
            "To authorize access needed by Earth Engine, open the following URL in a web browser and follow the instructions. If the web browser does not start automatically, please manually browse the URL below.\n",
            "\n",
            "    https://accounts.google.com/o/oauth2/auth?client_id=517222506229-vsmmajv00ul0bs7p89v5m89qs8eb9359.apps.googleusercontent.com&scope=https%3A%2F%2Fwww.googleapis.com%2Fauth%2Fearthengine+https%3A%2F%2Fwww.googleapis.com%2Fauth%2Fdevstorage.full_control&redirect_uri=urn%3Aietf%3Awg%3Aoauth%3A2.0%3Aoob&response_type=code&code_challenge=VJ6-4F58Qn3FXHbQ6j9g5cN1k-mUisUeEx1yeqzcsIA&code_challenge_method=S256\n",
            "\n",
            "The authorization workflow will generate a code, which you should paste in the box below. \n",
            "Enter verification code: 4/1AX4XfWgh26tFee6w5ru6X0ZfXOf2M6VE80QuZaQdMWblrW-J5w3BJrRdLG8\n",
            "\n",
            "Successfully saved authorization token.\n"
          ]
        }
      ]
    },
    {
      "cell_type": "markdown",
      "metadata": {
        "id": "uPc544ZAdpcq"
      },
      "source": [
        "Conectando com google drive"
      ]
    },
    {
      "cell_type": "code",
      "source": [
        "from google.colab import drive\n",
        "drive.mount('/content/drive')"
      ],
      "metadata": {
        "id": "542Pzz9UNbH2",
        "colab": {
          "base_uri": "https://localhost:8080/"
        },
        "outputId": "d15fdb43-cc6e-44d5-e5f9-d859165518bd"
      },
      "execution_count": 4,
      "outputs": [
        {
          "output_type": "stream",
          "name": "stdout",
          "text": [
            "Mounted at /content/drive\n"
          ]
        }
      ]
    },
    {
      "cell_type": "markdown",
      "source": [
        "#Carregando Dados"
      ],
      "metadata": {
        "id": "ZO_DzMKS_-t1"
      }
    },
    {
      "cell_type": "markdown",
      "metadata": {
        "id": "XgnOuLvdOCbp"
      },
      "source": [
        "Delimitando intervalo de imagem da área de estudo"
      ]
    },
    {
      "cell_type": "code",
      "source": [
        "#Pasta do projeto\n",
        "FolderProj = '/content/drive/MyDrive/Colab Notebooks/Anomaly Detection - Identifying harvested areas with sentinel imagery with the GEE/'\n",
        "PointFiler = FolderProj+'/pointsPlantedForest.shp'\n",
        "pointsPlantedForest = gp.read_file(PointFiler)\n",
        "#Faço uma cópia do arquivo de pontos. Dissolvo (ou resumo) os vários pontos em um só.\n",
        "FileExtend = pointsPlantedForest.copy().dissolve() \n",
        "#Crio um polígono do tamanho das proporções máximas do polígono dissolvido anteriomentee aumento em 5 km de borda.\n",
        "FileExtend['geometry'] = FileExtend['geometry'].envelope.buffer(5000)\n",
        "pointsPlantedForest"
      ],
      "metadata": {
        "colab": {
          "base_uri": "https://localhost:8080/",
          "height": 423
        },
        "id": "Ms1MTBwZI_DB",
        "outputId": "e6121d34-e483-4071-81ab-a165f47e5eef"
      },
      "execution_count": 5,
      "outputs": [
        {
          "output_type": "execute_result",
          "data": {
            "text/html": [
              "\n",
              "  <div id=\"df-4e1ec3f0-3824-4785-a739-dc7c6a767d95\">\n",
              "    <div class=\"colab-df-container\">\n",
              "      <div>\n",
              "<style scoped>\n",
              "    .dataframe tbody tr th:only-of-type {\n",
              "        vertical-align: middle;\n",
              "    }\n",
              "\n",
              "    .dataframe tbody tr th {\n",
              "        vertical-align: top;\n",
              "    }\n",
              "\n",
              "    .dataframe thead th {\n",
              "        text-align: right;\n",
              "    }\n",
              "</style>\n",
              "<table border=\"1\" class=\"dataframe\">\n",
              "  <thead>\n",
              "    <tr style=\"text-align: right;\">\n",
              "      <th></th>\n",
              "      <th>FID</th>\n",
              "      <th>geometry</th>\n",
              "    </tr>\n",
              "  </thead>\n",
              "  <tbody>\n",
              "    <tr>\n",
              "      <th>0</th>\n",
              "      <td>0</td>\n",
              "      <td>POINT (336770.823 7845740.541)</td>\n",
              "    </tr>\n",
              "    <tr>\n",
              "      <th>1</th>\n",
              "      <td>1</td>\n",
              "      <td>POINT (250914.377 7833925.849)</td>\n",
              "    </tr>\n",
              "    <tr>\n",
              "      <th>2</th>\n",
              "      <td>2</td>\n",
              "      <td>POINT (319067.735 7833508.263)</td>\n",
              "    </tr>\n",
              "    <tr>\n",
              "      <th>3</th>\n",
              "      <td>3</td>\n",
              "      <td>POINT (246934.960 7830454.942)</td>\n",
              "    </tr>\n",
              "    <tr>\n",
              "      <th>4</th>\n",
              "      <td>4</td>\n",
              "      <td>POINT (255524.521 7830511.025)</td>\n",
              "    </tr>\n",
              "    <tr>\n",
              "      <th>...</th>\n",
              "      <td>...</td>\n",
              "      <td>...</td>\n",
              "    </tr>\n",
              "    <tr>\n",
              "      <th>503</th>\n",
              "      <td>503</td>\n",
              "      <td>POINT (405701.800 7672255.421)</td>\n",
              "    </tr>\n",
              "    <tr>\n",
              "      <th>504</th>\n",
              "      <td>504</td>\n",
              "      <td>POINT (405860.102 7671219.127)</td>\n",
              "    </tr>\n",
              "    <tr>\n",
              "      <th>505</th>\n",
              "      <td>505</td>\n",
              "      <td>POINT (405208.836 7665590.257)</td>\n",
              "    </tr>\n",
              "    <tr>\n",
              "      <th>506</th>\n",
              "      <td>506</td>\n",
              "      <td>POINT (401320.942 7665766.906)</td>\n",
              "    </tr>\n",
              "    <tr>\n",
              "      <th>507</th>\n",
              "      <td>507</td>\n",
              "      <td>POINT (395361.942 7668703.071)</td>\n",
              "    </tr>\n",
              "  </tbody>\n",
              "</table>\n",
              "<p>508 rows × 2 columns</p>\n",
              "</div>\n",
              "      <button class=\"colab-df-convert\" onclick=\"convertToInteractive('df-4e1ec3f0-3824-4785-a739-dc7c6a767d95')\"\n",
              "              title=\"Convert this dataframe to an interactive table.\"\n",
              "              style=\"display:none;\">\n",
              "        \n",
              "  <svg xmlns=\"http://www.w3.org/2000/svg\" height=\"24px\"viewBox=\"0 0 24 24\"\n",
              "       width=\"24px\">\n",
              "    <path d=\"M0 0h24v24H0V0z\" fill=\"none\"/>\n",
              "    <path d=\"M18.56 5.44l.94 2.06.94-2.06 2.06-.94-2.06-.94-.94-2.06-.94 2.06-2.06.94zm-11 1L8.5 8.5l.94-2.06 2.06-.94-2.06-.94L8.5 2.5l-.94 2.06-2.06.94zm10 10l.94 2.06.94-2.06 2.06-.94-2.06-.94-.94-2.06-.94 2.06-2.06.94z\"/><path d=\"M17.41 7.96l-1.37-1.37c-.4-.4-.92-.59-1.43-.59-.52 0-1.04.2-1.43.59L10.3 9.45l-7.72 7.72c-.78.78-.78 2.05 0 2.83L4 21.41c.39.39.9.59 1.41.59.51 0 1.02-.2 1.41-.59l7.78-7.78 2.81-2.81c.8-.78.8-2.07 0-2.86zM5.41 20L4 18.59l7.72-7.72 1.47 1.35L5.41 20z\"/>\n",
              "  </svg>\n",
              "      </button>\n",
              "      \n",
              "  <style>\n",
              "    .colab-df-container {\n",
              "      display:flex;\n",
              "      flex-wrap:wrap;\n",
              "      gap: 12px;\n",
              "    }\n",
              "\n",
              "    .colab-df-convert {\n",
              "      background-color: #E8F0FE;\n",
              "      border: none;\n",
              "      border-radius: 50%;\n",
              "      cursor: pointer;\n",
              "      display: none;\n",
              "      fill: #1967D2;\n",
              "      height: 32px;\n",
              "      padding: 0 0 0 0;\n",
              "      width: 32px;\n",
              "    }\n",
              "\n",
              "    .colab-df-convert:hover {\n",
              "      background-color: #E2EBFA;\n",
              "      box-shadow: 0px 1px 2px rgba(60, 64, 67, 0.3), 0px 1px 3px 1px rgba(60, 64, 67, 0.15);\n",
              "      fill: #174EA6;\n",
              "    }\n",
              "\n",
              "    [theme=dark] .colab-df-convert {\n",
              "      background-color: #3B4455;\n",
              "      fill: #D2E3FC;\n",
              "    }\n",
              "\n",
              "    [theme=dark] .colab-df-convert:hover {\n",
              "      background-color: #434B5C;\n",
              "      box-shadow: 0px 1px 3px 1px rgba(0, 0, 0, 0.15);\n",
              "      filter: drop-shadow(0px 1px 2px rgba(0, 0, 0, 0.3));\n",
              "      fill: #FFFFFF;\n",
              "    }\n",
              "  </style>\n",
              "\n",
              "      <script>\n",
              "        const buttonEl =\n",
              "          document.querySelector('#df-4e1ec3f0-3824-4785-a739-dc7c6a767d95 button.colab-df-convert');\n",
              "        buttonEl.style.display =\n",
              "          google.colab.kernel.accessAllowed ? 'block' : 'none';\n",
              "\n",
              "        async function convertToInteractive(key) {\n",
              "          const element = document.querySelector('#df-4e1ec3f0-3824-4785-a739-dc7c6a767d95');\n",
              "          const dataTable =\n",
              "            await google.colab.kernel.invokeFunction('convertToInteractive',\n",
              "                                                     [key], {});\n",
              "          if (!dataTable) return;\n",
              "\n",
              "          const docLinkHtml = 'Like what you see? Visit the ' +\n",
              "            '<a target=\"_blank\" href=https://colab.research.google.com/notebooks/data_table.ipynb>data table notebook</a>'\n",
              "            + ' to learn more about interactive tables.';\n",
              "          element.innerHTML = '';\n",
              "          dataTable['output_type'] = 'display_data';\n",
              "          await google.colab.output.renderOutput(dataTable, element);\n",
              "          const docLink = document.createElement('div');\n",
              "          docLink.innerHTML = docLinkHtml;\n",
              "          element.appendChild(docLink);\n",
              "        }\n",
              "      </script>\n",
              "    </div>\n",
              "  </div>\n",
              "  "
            ],
            "text/plain": [
              "     FID                        geometry\n",
              "0      0  POINT (336770.823 7845740.541)\n",
              "1      1  POINT (250914.377 7833925.849)\n",
              "2      2  POINT (319067.735 7833508.263)\n",
              "3      3  POINT (246934.960 7830454.942)\n",
              "4      4  POINT (255524.521 7830511.025)\n",
              "..   ...                             ...\n",
              "503  503  POINT (405701.800 7672255.421)\n",
              "504  504  POINT (405860.102 7671219.127)\n",
              "505  505  POINT (405208.836 7665590.257)\n",
              "506  506  POINT (401320.942 7665766.906)\n",
              "507  507  POINT (395361.942 7668703.071)\n",
              "\n",
              "[508 rows x 2 columns]"
            ]
          },
          "metadata": {},
          "execution_count": 5
        }
      ]
    },
    {
      "cell_type": "code",
      "source": [
        "#Preparo a plotagem\n",
        "plt.style.use('fivethirtyeight')\n",
        "fig, ax = plt.subplots(figsize=(10, 10))\n",
        "FileExtend.plot(ax=ax, color='white',edgecolor='black')\n",
        "pointsPlantedForest.plot(ax=ax, color='green',markersize=2)\n",
        "plt.title('Pontos de floresta plantada',pad = 25)\n",
        "plt.show()"
      ],
      "metadata": {
        "id": "DRth8R47XnBD",
        "colab": {
          "base_uri": "https://localhost:8080/",
          "height": 638
        },
        "outputId": "0ee0dc64-691f-4a03-c26a-024a131e880f"
      },
      "execution_count": 6,
      "outputs": [
        {
          "output_type": "display_data",
          "data": {
            "image/png": "[encoded data removed]",
            "text/plain": [
              "<Figure size 720x720 with 1 Axes>"
            ]
          },
          "metadata": {}
        }
      ]
    },
    {
      "cell_type": "markdown",
      "metadata": {
        "id": "JtEEOXTljwKy"
      },
      "source": [
        "Carregando dados em objetos que interagem com a API do Google Earth Engine."
      ]
    },
    {
      "cell_type": "code",
      "metadata": {
        "id": "wGGAZ83XML8D"
      },
      "source": [
        "Points = geemap.shp_to_ee(PointFiler) \n",
        "AOI = geemap.geopandas_to_ee(FileExtend)"
      ],
      "execution_count": 7,
      "outputs": []
    },
    {
      "cell_type": "code",
      "source": [
        "startDateviz3 = ee.Date.fromYMD(2019,1,1);\n",
        "endDateviz3 = ee.Date.fromYMD(2019,3,30);\n",
        "collectionviz3 = ee.ImageCollection('MODIS/006/MCD43A4').filterDate(startDateviz3,endDateviz3).filterBounds(AOI)\n",
        "S2_2019 = collectionviz3.select([ 'Nadir_Reflectance_Band1', 'Nadir_Reflectance_Band4',  'Nadir_Reflectance_Band3']).median().clip(AOI)\n",
        "vis_params = {  'min': 0.0,  'max': 4000.0, 'gamma': 1.4  }"
      ],
      "metadata": {
        "id": "OpwJmXceVnUh"
      },
      "execution_count": 8,
      "outputs": []
    },
    {
      "cell_type": "code",
      "source": [
        "Map = geemap.Map()\n",
        "Map.addLayer(S2_2019,vis_params,'MODIS - 2019')\n",
        "Map.addLayer(Points,name='Amostras')\n",
        "Map.addLayer(AOI , name='Área de Estudo')\n",
        "Map.center_object(Points)\n",
        "Map.addLayerControl()\n",
        "Map"
      ],
      "metadata": {
        "colab": {
          "base_uri": "https://localhost:8080/",
          "height": 621,
          "referenced_widgets": [
            "4ad5ca00f48f42ae81c36e7f3becb625",
            "6302f7fe90cf4495a7910fb7b9308909",
            "4cff3ab5ad144ce098cd477214761bd4",
            "ad69cd7a302b4c9582cb31a4289ba3be",
            "2eb7ae56de1141c18f74535a482f384b",
            "965cb80689104f2cae5a56eec78ce91f",
            "e4f588a10f764e66a7894a42c0909467",
            "b2d0418f0edd4702b208971eed3a3219",
            "7eba3b6ff6794ebdab45bd7724ec1492",
            "970a507509d149609cbef64f1b5a996b",
            "943ddd276a7443f191b000a2c50685a0",
            "0968c9ea6fff4ea0812dda56be24acb5",
            "57b9a50d83dc4e40b536014cb9a4d260",
            "b549704555734c84b68e9342f4c16aee",
            "ecab9015fc4c494cb5dad0d24ca53ec1",
            "9fe482ee2e2b40fd9dd339d411303cc3",
            "b1913e48a5e543689b4cea37d9ec23e0",
            "75a3b911d5474cd6bd03fd21b3753d7d",
            "a4c910847da24857a160901807773731",
            "a819778507d44082b65ea9e3821499f6",
            "ead4e6a458004f9696abbad55f04fd9d",
            "6e7ef24ce2b34e5a88b4c62643a841a5",
            "38d9f0b66761484fbdb73fbb0eaa4ffb",
            "5b9d493e0710453588fce09d480fae8e",
            "4e727933499c4e7ab09e1b2db3362d34",
            "bd15fae78d21447e8c5eba3c97b4e5c2",
            "b56f11d476044082a04600566eb1d9dd",
            "a8af6dc818c541f3b0243c92c27e0f9e"
          ]
        },
        "id": "Q0pyggoxQRdA",
        "outputId": "edb66e3a-ac02-4239-9d8c-e4eb1aacfe60"
      },
      "execution_count": 9,
      "outputs": [
        {
          "output_type": "display_data",
          "data": {
            "application/vnd.jupyter.widget-view+json": {
              "model_id": "4ad5ca00f48f42ae81c36e7f3becb625",
              "version_minor": 0,
              "version_major": 2
            },
            "text/plain": [
              "Map(center=[20, 0], controls=(WidgetControl(options=['position', 'transparent_bg'], widget=HBox(children=(Togg…"
            ]
          },
          "metadata": {
            "application/vnd.jupyter.widget-view+json": {
              "colab": {
                "custom_widget_manager": {
                  "url": "https://ssl.gstatic.com/colaboratory-static/widgets/colab-cdn-widget-manager/a8874ba6619b6106/manager.min.js"
                }
              }
            }
          }
        }
      ]
    },
    {
      "cell_type": "markdown",
      "metadata": {
        "id": "f2D0sHnuzbuh"
      },
      "source": [
        "#Extraindo dados série de dados NDVI\n"
      ]
    },
    {
      "cell_type": "markdown",
      "source": [
        "##Extraindo dados com a API do GEE"
      ],
      "metadata": {
        "id": "slsIrKgIeOnX"
      }
    },
    {
      "cell_type": "code",
      "metadata": {
        "id": "hCe7Phn_zbum",
        "colab": {
          "base_uri": "https://localhost:8080/"
        },
        "outputId": "a1dca9e5-ddfb-471d-d340-42ffa65142a0"
      },
      "source": [
        "#Função para transformar os valores dos pixeis para o intervalo de -1 a 1 em tipo float e \n",
        "#insere a propriedade da data das imagens\n",
        "def NDVIf(image):\n",
        "  return image.expression('float(b(\"NDVI\")/10000)').copyProperties(image, [\"system:time_start\"])\n",
        "#Definindo o intervalo de data da serie de imagens.\n",
        "startDate = ee.Date.fromYMD(2009,1,1);\n",
        "endDate = ee.Date.fromYMD(2019,12,31);\n",
        "#Aplico os filtros na coleção de imagens NDVI MODIS, de área, datas e a função de representação de valores do NDVI\n",
        "modis = ee.ImageCollection(\"MODIS/006/MOD13Q1\")\n",
        "NDVI_Modis = modis.filterBounds(AOI).filterDate(startDate,endDate).map(NDVIf)\n",
        "#Quantidade de imagens na coleção\n",
        "print(NDVI_Modis.size().getInfo())"
      ],
      "execution_count": 10,
      "outputs": [
        {
          "output_type": "stream",
          "name": "stdout",
          "text": [
            "253\n"
          ]
        }
      ]
    },
    {
      "cell_type": "markdown",
      "metadata": {
        "id": "vSdd1aaw2Adz"
      },
      "source": [
        "Essa função extraí a média dos valores NDVI das imagens disponíveis para o conjunto de pontos de floresta plantada nas datas de obtenção de cada imagem ou conjunto de imagens. Terminando assim o processamento espacial das informações."
      ]
    },
    {
      "cell_type": "code",
      "metadata": {
        "id": "nmTFwhGNzbuo",
        "colab": {
          "base_uri": "https://localhost:8080/",
          "height": 542,
          "referenced_widgets": [
            "8b8f526fc7b64f66962fa8002925e700",
            "ae521b8927be44489a795551c00b840c",
            "817ac73313374e58b2dd9c8a459340e9"
          ]
        },
        "outputId": "bb4e2b23-9449-4d1b-a835-746a1b7ece11"
      },
      "source": [
        "#Função do ipygee para obtenção de gráficos derivados de coleção de imagens do GEE\n",
        "point_ndvi_Modis = chart.Image.series(**{'imageCollection': NDVI_Modis,\n",
        "                                   'region': Points,\n",
        "                                   'reducer': ee.Reducer.mean(),\n",
        "                                   'bands' : 'NDVI',\n",
        "                                   'scale': 25,\n",
        "                                   'xProperty': 'system:time_start'})\n",
        "point_ndvi_Modis.renderWidget(width='40%')"
      ],
      "execution_count": 11,
      "outputs": [
        {
          "output_type": "display_data",
          "data": {
            "application/vnd.jupyter.widget-view+json": {
              "model_id": "8b8f526fc7b64f66962fa8002925e700",
              "version_minor": 0,
              "version_major": 2
            },
            "text/plain": [
              "HTML(value='<embed src=data:image/svg+xml;charset=utf-8;base64,PD94bWwgdmVyc2lvbj0nMS4wJyBlbmNvZGluZz0ndXRmLTg…"
            ]
          },
          "metadata": {
            "application/vnd.jupyter.widget-view+json": {
              "colab": {
                "custom_widget_manager": {
                  "url": "https://ssl.gstatic.com/colaboratory-static/widgets/colab-cdn-widget-manager/a8874ba6619b6106/manager.min.js"
                }
              }
            }
          }
        }
      ]
    },
    {
      "cell_type": "markdown",
      "metadata": {
        "id": "ohTN57uwXDL3"
      },
      "source": [
        "#Análise e Exploração dos Dados"
      ]
    },
    {
      "cell_type": "code",
      "metadata": {
        "id": "vYho5VvkDssp",
        "colab": {
          "base_uri": "https://localhost:8080/",
          "height": 300
        },
        "outputId": "81813e1c-6ce9-4369-b89d-2d43ddd47c08"
      },
      "source": [
        "#Crio um dataframe pandas com os dados da serie temporal\n",
        "p1_dataframeModis=point_ndvi_Modis.dataframe\n",
        "p1_dataframeModis.describe()"
      ],
      "execution_count": 12,
      "outputs": [
        {
          "output_type": "execute_result",
          "data": {
            "text/html": [
              "\n",
              "  <div id=\"df-638029ca-a76e-4fdd-ab4c-0c3813db68aa\">\n",
              "    <div class=\"colab-df-container\">\n",
              "      <div>\n",
              "<style scoped>\n",
              "    .dataframe tbody tr th:only-of-type {\n",
              "        vertical-align: middle;\n",
              "    }\n",
              "\n",
              "    .dataframe tbody tr th {\n",
              "        vertical-align: top;\n",
              "    }\n",
              "\n",
              "    .dataframe thead th {\n",
              "        text-align: right;\n",
              "    }\n",
              "</style>\n",
              "<table border=\"1\" class=\"dataframe\">\n",
              "  <thead>\n",
              "    <tr style=\"text-align: right;\">\n",
              "      <th></th>\n",
              "      <th>NDVI</th>\n",
              "    </tr>\n",
              "  </thead>\n",
              "  <tbody>\n",
              "    <tr>\n",
              "      <th>count</th>\n",
              "      <td>253.000000</td>\n",
              "    </tr>\n",
              "    <tr>\n",
              "      <th>mean</th>\n",
              "      <td>0.740731</td>\n",
              "    </tr>\n",
              "    <tr>\n",
              "      <th>std</th>\n",
              "      <td>0.065425</td>\n",
              "    </tr>\n",
              "    <tr>\n",
              "      <th>min</th>\n",
              "      <td>0.328917</td>\n",
              "    </tr>\n",
              "    <tr>\n",
              "      <th>25%</th>\n",
              "      <td>0.703330</td>\n",
              "    </tr>\n",
              "    <tr>\n",
              "      <th>50%</th>\n",
              "      <td>0.748621</td>\n",
              "    </tr>\n",
              "    <tr>\n",
              "      <th>75%</th>\n",
              "      <td>0.790043</td>\n",
              "    </tr>\n",
              "    <tr>\n",
              "      <th>max</th>\n",
              "      <td>0.843331</td>\n",
              "    </tr>\n",
              "  </tbody>\n",
              "</table>\n",
              "</div>\n",
              "      <button class=\"colab-df-convert\" onclick=\"convertToInteractive('df-638029ca-a76e-4fdd-ab4c-0c3813db68aa')\"\n",
              "              title=\"Convert this dataframe to an interactive table.\"\n",
              "              style=\"display:none;\">\n",
              "        \n",
              "  <svg xmlns=\"http://www.w3.org/2000/svg\" height=\"24px\"viewBox=\"0 0 24 24\"\n",
              "       width=\"24px\">\n",
              "    <path d=\"M0 0h24v24H0V0z\" fill=\"none\"/>\n",
              "    <path d=\"M18.56 5.44l.94 2.06.94-2.06 2.06-.94-2.06-.94-.94-2.06-.94 2.06-2.06.94zm-11 1L8.5 8.5l.94-2.06 2.06-.94-2.06-.94L8.5 2.5l-.94 2.06-2.06.94zm10 10l.94 2.06.94-2.06 2.06-.94-2.06-.94-.94-2.06-.94 2.06-2.06.94z\"/><path d=\"M17.41 7.96l-1.37-1.37c-.4-.4-.92-.59-1.43-.59-.52 0-1.04.2-1.43.59L10.3 9.45l-7.72 7.72c-.78.78-.78 2.05 0 2.83L4 21.41c.39.39.9.59 1.41.59.51 0 1.02-.2 1.41-.59l7.78-7.78 2.81-2.81c.8-.78.8-2.07 0-2.86zM5.41 20L4 18.59l7.72-7.72 1.47 1.35L5.41 20z\"/>\n",
              "  </svg>\n",
              "      </button>\n",
              "      \n",
              "  <style>\n",
              "    .colab-df-container {\n",
              "      display:flex;\n",
              "      flex-wrap:wrap;\n",
              "      gap: 12px;\n",
              "    }\n",
              "\n",
              "    .colab-df-convert {\n",
              "      background-color: #E8F0FE;\n",
              "      border: none;\n",
              "      border-radius: 50%;\n",
              "      cursor: pointer;\n",
              "      display: none;\n",
              "      fill: #1967D2;\n",
              "      height: 32px;\n",
              "      padding: 0 0 0 0;\n",
              "      width: 32px;\n",
              "    }\n",
              "\n",
              "    .colab-df-convert:hover {\n",
              "      background-color: #E2EBFA;\n",
              "      box-shadow: 0px 1px 2px rgba(60, 64, 67, 0.3), 0px 1px 3px 1px rgba(60, 64, 67, 0.15);\n",
              "      fill: #174EA6;\n",
              "    }\n",
              "\n",
              "    [theme=dark] .colab-df-convert {\n",
              "      background-color: #3B4455;\n",
              "      fill: #D2E3FC;\n",
              "    }\n",
              "\n",
              "    [theme=dark] .colab-df-convert:hover {\n",
              "      background-color: #434B5C;\n",
              "      box-shadow: 0px 1px 3px 1px rgba(0, 0, 0, 0.15);\n",
              "      filter: drop-shadow(0px 1px 2px rgba(0, 0, 0, 0.3));\n",
              "      fill: #FFFFFF;\n",
              "    }\n",
              "  </style>\n",
              "\n",
              "      <script>\n",
              "        const buttonEl =\n",
              "          document.querySelector('#df-638029ca-a76e-4fdd-ab4c-0c3813db68aa button.colab-df-convert');\n",
              "        buttonEl.style.display =\n",
              "          google.colab.kernel.accessAllowed ? 'block' : 'none';\n",
              "\n",
              "        async function convertToInteractive(key) {\n",
              "          const element = document.querySelector('#df-638029ca-a76e-4fdd-ab4c-0c3813db68aa');\n",
              "          const dataTable =\n",
              "            await google.colab.kernel.invokeFunction('convertToInteractive',\n",
              "                                                     [key], {});\n",
              "          if (!dataTable) return;\n",
              "\n",
              "          const docLinkHtml = 'Like what you see? Visit the ' +\n",
              "            '<a target=\"_blank\" href=https://colab.research.google.com/notebooks/data_table.ipynb>data table notebook</a>'\n",
              "            + ' to learn more about interactive tables.';\n",
              "          element.innerHTML = '';\n",
              "          dataTable['output_type'] = 'display_data';\n",
              "          await google.colab.output.renderOutput(dataTable, element);\n",
              "          const docLink = document.createElement('div');\n",
              "          docLink.innerHTML = docLinkHtml;\n",
              "          element.appendChild(docLink);\n",
              "        }\n",
              "      </script>\n",
              "    </div>\n",
              "  </div>\n",
              "  "
            ],
            "text/plain": [
              "             NDVI\n",
              "count  253.000000\n",
              "mean     0.740731\n",
              "std      0.065425\n",
              "min      0.328917\n",
              "25%      0.703330\n",
              "50%      0.748621\n",
              "75%      0.790043\n",
              "max      0.843331"
            ]
          },
          "metadata": {},
          "execution_count": 12
        }
      ]
    },
    {
      "cell_type": "markdown",
      "metadata": {
        "id": "5zIbYvihRB_s"
      },
      "source": [
        "Plotando a série temporal"
      ]
    },
    {
      "cell_type": "code",
      "metadata": {
        "colab": {
          "base_uri": "https://localhost:8080/",
          "height": 373
        },
        "id": "ay6LdcCp7qN_",
        "outputId": "984e8173-7ef5-4909-b1a6-dbfadde2b643"
      },
      "source": [
        "p1_dataframeModis.plot(figsize=(15, 6))\n",
        "plt.title('Série temporal NDVI MODIS')\n",
        "plt.legend(loc='best')\n",
        "plt.show()\n"
      ],
      "execution_count": 13,
      "outputs": [
        {
          "output_type": "display_data",
          "data": {
            "image/png": "[encoded data removed]",
            "text/plain": [
              "<Figure size 1080x432 with 1 Axes>"
            ]
          },
          "metadata": {}
        }
      ]
    },
    {
      "cell_type": "code",
      "source": [
        "p1_dataframeModis.head()"
      ],
      "metadata": {
        "colab": {
          "base_uri": "https://localhost:8080/",
          "height": 206
        },
        "id": "jtzOkgQCABnt",
        "outputId": "a4189da4-196a-44e6-f829-9dd48f943e00"
      },
      "execution_count": 43,
      "outputs": [
        {
          "output_type": "execute_result",
          "data": {
            "text/html": [
              "\n",
              "  <div id=\"df-d6144bd6-55ec-4909-bf1d-222e66cb3478\">\n",
              "    <div class=\"colab-df-container\">\n",
              "      <div>\n",
              "<style scoped>\n",
              "    .dataframe tbody tr th:only-of-type {\n",
              "        vertical-align: middle;\n",
              "    }\n",
              "\n",
              "    .dataframe tbody tr th {\n",
              "        vertical-align: top;\n",
              "    }\n",
              "\n",
              "    .dataframe thead th {\n",
              "        text-align: right;\n",
              "    }\n",
              "</style>\n",
              "<table border=\"1\" class=\"dataframe\">\n",
              "  <thead>\n",
              "    <tr style=\"text-align: right;\">\n",
              "      <th></th>\n",
              "      <th>NDVI</th>\n",
              "      <th>dia_do_ano</th>\n",
              "      <th>semana_do_ano</th>\n",
              "    </tr>\n",
              "  </thead>\n",
              "  <tbody>\n",
              "    <tr>\n",
              "      <th>2009-01-01</th>\n",
              "      <td>0.692229</td>\n",
              "      <td>1</td>\n",
              "      <td>1</td>\n",
              "    </tr>\n",
              "    <tr>\n",
              "      <th>2009-01-17</th>\n",
              "      <td>0.703369</td>\n",
              "      <td>17</td>\n",
              "      <td>3</td>\n",
              "    </tr>\n",
              "    <tr>\n",
              "      <th>2009-02-02</th>\n",
              "      <td>0.740709</td>\n",
              "      <td>33</td>\n",
              "      <td>6</td>\n",
              "    </tr>\n",
              "    <tr>\n",
              "      <th>2009-02-18</th>\n",
              "      <td>0.729057</td>\n",
              "      <td>49</td>\n",
              "      <td>8</td>\n",
              "    </tr>\n",
              "    <tr>\n",
              "      <th>2009-03-06</th>\n",
              "      <td>0.748573</td>\n",
              "      <td>65</td>\n",
              "      <td>10</td>\n",
              "    </tr>\n",
              "  </tbody>\n",
              "</table>\n",
              "</div>\n",
              "      <button class=\"colab-df-convert\" onclick=\"convertToInteractive('df-d6144bd6-55ec-4909-bf1d-222e66cb3478')\"\n",
              "              title=\"Convert this dataframe to an interactive table.\"\n",
              "              style=\"display:none;\">\n",
              "        \n",
              "  <svg xmlns=\"http://www.w3.org/2000/svg\" height=\"24px\"viewBox=\"0 0 24 24\"\n",
              "       width=\"24px\">\n",
              "    <path d=\"M0 0h24v24H0V0z\" fill=\"none\"/>\n",
              "    <path d=\"M18.56 5.44l.94 2.06.94-2.06 2.06-.94-2.06-.94-.94-2.06-.94 2.06-2.06.94zm-11 1L8.5 8.5l.94-2.06 2.06-.94-2.06-.94L8.5 2.5l-.94 2.06-2.06.94zm10 10l.94 2.06.94-2.06 2.06-.94-2.06-.94-.94-2.06-.94 2.06-2.06.94z\"/><path d=\"M17.41 7.96l-1.37-1.37c-.4-.4-.92-.59-1.43-.59-.52 0-1.04.2-1.43.59L10.3 9.45l-7.72 7.72c-.78.78-.78 2.05 0 2.83L4 21.41c.39.39.9.59 1.41.59.51 0 1.02-.2 1.41-.59l7.78-7.78 2.81-2.81c.8-.78.8-2.07 0-2.86zM5.41 20L4 18.59l7.72-7.72 1.47 1.35L5.41 20z\"/>\n",
              "  </svg>\n",
              "      </button>\n",
              "      \n",
              "  <style>\n",
              "    .colab-df-container {\n",
              "      display:flex;\n",
              "      flex-wrap:wrap;\n",
              "      gap: 12px;\n",
              "    }\n",
              "\n",
              "    .colab-df-convert {\n",
              "      background-color: #E8F0FE;\n",
              "      border: none;\n",
              "      border-radius: 50%;\n",
              "      cursor: pointer;\n",
              "      display: none;\n",
              "      fill: #1967D2;\n",
              "      height: 32px;\n",
              "      padding: 0 0 0 0;\n",
              "      width: 32px;\n",
              "    }\n",
              "\n",
              "    .colab-df-convert:hover {\n",
              "      background-color: #E2EBFA;\n",
              "      box-shadow: 0px 1px 2px rgba(60, 64, 67, 0.3), 0px 1px 3px 1px rgba(60, 64, 67, 0.15);\n",
              "      fill: #174EA6;\n",
              "    }\n",
              "\n",
              "    [theme=dark] .colab-df-convert {\n",
              "      background-color: #3B4455;\n",
              "      fill: #D2E3FC;\n",
              "    }\n",
              "\n",
              "    [theme=dark] .colab-df-convert:hover {\n",
              "      background-color: #434B5C;\n",
              "      box-shadow: 0px 1px 3px 1px rgba(0, 0, 0, 0.15);\n",
              "      filter: drop-shadow(0px 1px 2px rgba(0, 0, 0, 0.3));\n",
              "      fill: #FFFFFF;\n",
              "    }\n",
              "  </style>\n",
              "\n",
              "      <script>\n",
              "        const buttonEl =\n",
              "          document.querySelector('#df-d6144bd6-55ec-4909-bf1d-222e66cb3478 button.colab-df-convert');\n",
              "        buttonEl.style.display =\n",
              "          google.colab.kernel.accessAllowed ? 'block' : 'none';\n",
              "\n",
              "        async function convertToInteractive(key) {\n",
              "          const element = document.querySelector('#df-d6144bd6-55ec-4909-bf1d-222e66cb3478');\n",
              "          const dataTable =\n",
              "            await google.colab.kernel.invokeFunction('convertToInteractive',\n",
              "                                                     [key], {});\n",
              "          if (!dataTable) return;\n",
              "\n",
              "          const docLinkHtml = 'Like what you see? Visit the ' +\n",
              "            '<a target=\"_blank\" href=https://colab.research.google.com/notebooks/data_table.ipynb>data table notebook</a>'\n",
              "            + ' to learn more about interactive tables.';\n",
              "          element.innerHTML = '';\n",
              "          dataTable['output_type'] = 'display_data';\n",
              "          await google.colab.output.renderOutput(dataTable, element);\n",
              "          const docLink = document.createElement('div');\n",
              "          docLink.innerHTML = docLinkHtml;\n",
              "          element.appendChild(docLink);\n",
              "        }\n",
              "      </script>\n",
              "    </div>\n",
              "  </div>\n",
              "  "
            ],
            "text/plain": [
              "                NDVI  dia_do_ano  semana_do_ano\n",
              "2009-01-01  0.692229           1              1\n",
              "2009-01-17  0.703369          17              3\n",
              "2009-02-02  0.740709          33              6\n",
              "2009-02-18  0.729057          49              8\n",
              "2009-03-06  0.748573          65             10"
            ]
          },
          "metadata": {},
          "execution_count": 43
        }
      ]
    },
    {
      "cell_type": "markdown",
      "metadata": {
        "id": "rEO4VMQcRFz7"
      },
      "source": [
        "##Avaliando outliers"
      ]
    },
    {
      "cell_type": "code",
      "metadata": {
        "colab": {
          "base_uri": "https://localhost:8080/",
          "height": 418
        },
        "id": "CgIkcQl2UUHc",
        "outputId": "3164653f-0e56-4ed4-c2de-1c7e2d03f296"
      },
      "source": [
        "p1_dataframeModis.plot(figsize=(15, 6),kind='box',vert=False)\n",
        "plt.title('Box-plot da Série temporal NDVI MODIS')\n",
        "plt.show()"
      ],
      "execution_count": 15,
      "outputs": [
        {
          "output_type": "display_data",
          "data": {
            "image/png": "[encoded data removed]",
            "text/plain": [
              "<Figure size 1080x432 with 1 Axes>"
            ]
          },
          "metadata": {}
        }
      ]
    },
    {
      "cell_type": "code",
      "source": [
        "#Percentual de outliers\n",
        "str(round((len(p1_dataframeModis[p1_dataframeModis['NDVI']<0.4])/len(p1_dataframeModis))*100,2)) + \" % dos dados são outliers\"\n"
      ],
      "metadata": {
        "colab": {
          "base_uri": "https://localhost:8080/",
          "height": 35
        },
        "id": "U71b0QcKEdRc",
        "outputId": "da39bec2-533e-4207-bbad-92086b26d04f"
      },
      "execution_count": 16,
      "outputs": [
        {
          "output_type": "execute_result",
          "data": {
            "application/vnd.google.colaboratory.intrinsic+json": {
              "type": "string"
            },
            "text/plain": [
              "'0.79 % dos dados são outliers'"
            ]
          },
          "metadata": {},
          "execution_count": 16
        }
      ]
    },
    {
      "cell_type": "markdown",
      "source": [
        "#Modelando no PyCaret"
      ],
      "metadata": {
        "id": "HcCCtzVvJw6x"
      }
    },
    {
      "cell_type": "markdown",
      "source": [
        "###Enriquecendo o dado para modelagem"
      ],
      "metadata": {
        "id": "Jn6cVNwyH_ho"
      }
    },
    {
      "cell_type": "code",
      "source": [
        "dataset = p1_dataframeModis\n",
        "dataset['dia_do_ano'] = [i.dayofyear for i in dataset.index]\n",
        "dataset['semana_do_ano'] = [i.weekofyear for i in dataset.index]"
      ],
      "metadata": {
        "id": "tAdDQLgQVEQF"
      },
      "execution_count": 17,
      "outputs": []
    },
    {
      "cell_type": "markdown",
      "source": [
        "##Separando o dado para treinamento e teste"
      ],
      "metadata": {
        "id": "4ucPwnnKTxil"
      }
    },
    {
      "cell_type": "code",
      "source": [
        "data = dataset.sample(frac=0.95, random_state=786)\n",
        "data_unseen = dataset.drop(data.index)\n",
        "\n",
        "print('Data for Modeling: ' + str(data.shape))\n",
        "print('Unseen Data For Predictions: ' + str(data_unseen.shape))"
      ],
      "metadata": {
        "colab": {
          "base_uri": "https://localhost:8080/"
        },
        "id": "APfXw5-sMGuF",
        "outputId": "2466366c-3ac8-47b6-e3d3-69cf9a8a0603"
      },
      "execution_count": 18,
      "outputs": [
        {
          "output_type": "stream",
          "name": "stdout",
          "text": [
            "Data for Modeling: (240, 3)\n",
            "Unseen Data For Predictions: (13, 3)\n"
          ]
        }
      ]
    },
    {
      "cell_type": "code",
      "source": [
        "data.head(5)"
      ],
      "metadata": {
        "colab": {
          "base_uri": "https://localhost:8080/",
          "height": 206
        },
        "id": "QJvRMSQ8KLap",
        "outputId": "57166e74-cf41-4f6e-b5e9-7cef4b5559cb"
      },
      "execution_count": 19,
      "outputs": [
        {
          "output_type": "execute_result",
          "data": {
            "text/html": [
              "\n",
              "  <div id=\"df-aa692630-f9d5-4a95-8b21-b05a17a95f6e\">\n",
              "    <div class=\"colab-df-container\">\n",
              "      <div>\n",
              "<style scoped>\n",
              "    .dataframe tbody tr th:only-of-type {\n",
              "        vertical-align: middle;\n",
              "    }\n",
              "\n",
              "    .dataframe tbody tr th {\n",
              "        vertical-align: top;\n",
              "    }\n",
              "\n",
              "    .dataframe thead th {\n",
              "        text-align: right;\n",
              "    }\n",
              "</style>\n",
              "<table border=\"1\" class=\"dataframe\">\n",
              "  <thead>\n",
              "    <tr style=\"text-align: right;\">\n",
              "      <th></th>\n",
              "      <th>NDVI</th>\n",
              "      <th>dia_do_ano</th>\n",
              "      <th>semana_do_ano</th>\n",
              "    </tr>\n",
              "  </thead>\n",
              "  <tbody>\n",
              "    <tr>\n",
              "      <th>2017-04-23</th>\n",
              "      <td>0.796945</td>\n",
              "      <td>113</td>\n",
              "      <td>16</td>\n",
              "    </tr>\n",
              "    <tr>\n",
              "      <th>2010-03-22</th>\n",
              "      <td>0.733197</td>\n",
              "      <td>81</td>\n",
              "      <td>12</td>\n",
              "    </tr>\n",
              "    <tr>\n",
              "      <th>2016-12-02</th>\n",
              "      <td>0.709327</td>\n",
              "      <td>337</td>\n",
              "      <td>48</td>\n",
              "    </tr>\n",
              "    <tr>\n",
              "      <th>2015-02-02</th>\n",
              "      <td>0.778705</td>\n",
              "      <td>33</td>\n",
              "      <td>6</td>\n",
              "    </tr>\n",
              "    <tr>\n",
              "      <th>2012-02-18</th>\n",
              "      <td>0.816190</td>\n",
              "      <td>49</td>\n",
              "      <td>7</td>\n",
              "    </tr>\n",
              "  </tbody>\n",
              "</table>\n",
              "</div>\n",
              "      <button class=\"colab-df-convert\" onclick=\"convertToInteractive('df-aa692630-f9d5-4a95-8b21-b05a17a95f6e')\"\n",
              "              title=\"Convert this dataframe to an interactive table.\"\n",
              "              style=\"display:none;\">\n",
              "        \n",
              "  <svg xmlns=\"http://www.w3.org/2000/svg\" height=\"24px\"viewBox=\"0 0 24 24\"\n",
              "       width=\"24px\">\n",
              "    <path d=\"M0 0h24v24H0V0z\" fill=\"none\"/>\n",
              "    <path d=\"M18.56 5.44l.94 2.06.94-2.06 2.06-.94-2.06-.94-.94-2.06-.94 2.06-2.06.94zm-11 1L8.5 8.5l.94-2.06 2.06-.94-2.06-.94L8.5 2.5l-.94 2.06-2.06.94zm10 10l.94 2.06.94-2.06 2.06-.94-2.06-.94-.94-2.06-.94 2.06-2.06.94z\"/><path d=\"M17.41 7.96l-1.37-1.37c-.4-.4-.92-.59-1.43-.59-.52 0-1.04.2-1.43.59L10.3 9.45l-7.72 7.72c-.78.78-.78 2.05 0 2.83L4 21.41c.39.39.9.59 1.41.59.51 0 1.02-.2 1.41-.59l7.78-7.78 2.81-2.81c.8-.78.8-2.07 0-2.86zM5.41 20L4 18.59l7.72-7.72 1.47 1.35L5.41 20z\"/>\n",
              "  </svg>\n",
              "      </button>\n",
              "      \n",
              "  <style>\n",
              "    .colab-df-container {\n",
              "      display:flex;\n",
              "      flex-wrap:wrap;\n",
              "      gap: 12px;\n",
              "    }\n",
              "\n",
              "    .colab-df-convert {\n",
              "      background-color: #E8F0FE;\n",
              "      border: none;\n",
              "      border-radius: 50%;\n",
              "      cursor: pointer;\n",
              "      display: none;\n",
              "      fill: #1967D2;\n",
              "      height: 32px;\n",
              "      padding: 0 0 0 0;\n",
              "      width: 32px;\n",
              "    }\n",
              "\n",
              "    .colab-df-convert:hover {\n",
              "      background-color: #E2EBFA;\n",
              "      box-shadow: 0px 1px 2px rgba(60, 64, 67, 0.3), 0px 1px 3px 1px rgba(60, 64, 67, 0.15);\n",
              "      fill: #174EA6;\n",
              "    }\n",
              "\n",
              "    [theme=dark] .colab-df-convert {\n",
              "      background-color: #3B4455;\n",
              "      fill: #D2E3FC;\n",
              "    }\n",
              "\n",
              "    [theme=dark] .colab-df-convert:hover {\n",
              "      background-color: #434B5C;\n",
              "      box-shadow: 0px 1px 3px 1px rgba(0, 0, 0, 0.15);\n",
              "      filter: drop-shadow(0px 1px 2px rgba(0, 0, 0, 0.3));\n",
              "      fill: #FFFFFF;\n",
              "    }\n",
              "  </style>\n",
              "\n",
              "      <script>\n",
              "        const buttonEl =\n",
              "          document.querySelector('#df-aa692630-f9d5-4a95-8b21-b05a17a95f6e button.colab-df-convert');\n",
              "        buttonEl.style.display =\n",
              "          google.colab.kernel.accessAllowed ? 'block' : 'none';\n",
              "\n",
              "        async function convertToInteractive(key) {\n",
              "          const element = document.querySelector('#df-aa692630-f9d5-4a95-8b21-b05a17a95f6e');\n",
              "          const dataTable =\n",
              "            await google.colab.kernel.invokeFunction('convertToInteractive',\n",
              "                                                     [key], {});\n",
              "          if (!dataTable) return;\n",
              "\n",
              "          const docLinkHtml = 'Like what you see? Visit the ' +\n",
              "            '<a target=\"_blank\" href=https://colab.research.google.com/notebooks/data_table.ipynb>data table notebook</a>'\n",
              "            + ' to learn more about interactive tables.';\n",
              "          element.innerHTML = '';\n",
              "          dataTable['output_type'] = 'display_data';\n",
              "          await google.colab.output.renderOutput(dataTable, element);\n",
              "          const docLink = document.createElement('div');\n",
              "          docLink.innerHTML = docLinkHtml;\n",
              "          element.appendChild(docLink);\n",
              "        }\n",
              "      </script>\n",
              "    </div>\n",
              "  </div>\n",
              "  "
            ],
            "text/plain": [
              "                NDVI  dia_do_ano  semana_do_ano\n",
              "2017-04-23  0.796945         113             16\n",
              "2010-03-22  0.733197          81             12\n",
              "2016-12-02  0.709327         337             48\n",
              "2015-02-02  0.778705          33              6\n",
              "2012-02-18  0.816190          49              7"
            ]
          },
          "metadata": {},
          "execution_count": 19
        }
      ]
    },
    {
      "cell_type": "markdown",
      "source": [
        "##Carregando o dado no PyCaret"
      ],
      "metadata": {
        "id": "RFjTAXphT89P"
      }
    },
    {
      "cell_type": "code",
      "source": [
        "exp_ano101 = setup(data, normalize = True, session_id = 123)"
      ],
      "metadata": {
        "id": "Jp5xCMlZMpnb",
        "colab": {
          "base_uri": "https://localhost:8080/",
          "height": 1000,
          "referenced_widgets": [
            "a6d615d7a2fb4287bc6b4d5e502c2ce0",
            "986d819524444e1da3854901d2596417",
            "af2ed63bbb724dcba4037eb09781ed7b",
            "d0695ce9e00b40feb4a3930329efd238",
            "a594c2c7b87b4cbb82568a8730fd38c9",
            "6b25bfc9cfe543ceaf259a43f21ecce3"
          ]
        },
        "outputId": "f82484ae-cf6e-41b2-b40d-371b4700b742"
      },
      "execution_count": 20,
      "outputs": [
        {
          "output_type": "display_data",
          "data": {
            "text/html": [
              "\n",
              "  <div id=\"df-744eb9f1-d477-40d2-a763-741e91045fb4\">\n",
              "    <div class=\"colab-df-container\">\n",
              "      <div>\n",
              "<style scoped>\n",
              "    .dataframe tbody tr th:only-of-type {\n",
              "        vertical-align: middle;\n",
              "    }\n",
              "\n",
              "    .dataframe tbody tr th {\n",
              "        vertical-align: top;\n",
              "    }\n",
              "\n",
              "    .dataframe thead th {\n",
              "        text-align: right;\n",
              "    }\n",
              "</style>\n",
              "<table border=\"1\" class=\"dataframe\">\n",
              "  <thead>\n",
              "    <tr style=\"text-align: right;\">\n",
              "      <th></th>\n",
              "      <th>Description</th>\n",
              "      <th>Value</th>\n",
              "    </tr>\n",
              "  </thead>\n",
              "  <tbody>\n",
              "    <tr>\n",
              "      <th>0</th>\n",
              "      <td>session_id</td>\n",
              "      <td>123</td>\n",
              "    </tr>\n",
              "    <tr>\n",
              "      <th>1</th>\n",
              "      <td>Original Data</td>\n",
              "      <td>(240, 3)</td>\n",
              "    </tr>\n",
              "    <tr>\n",
              "      <th>2</th>\n",
              "      <td>Missing Values</td>\n",
              "      <td>False</td>\n",
              "    </tr>\n",
              "    <tr>\n",
              "      <th>3</th>\n",
              "      <td>Numeric Features</td>\n",
              "      <td>3</td>\n",
              "    </tr>\n",
              "    <tr>\n",
              "      <th>4</th>\n",
              "      <td>Categorical Features</td>\n",
              "      <td>0</td>\n",
              "    </tr>\n",
              "    <tr>\n",
              "      <th>5</th>\n",
              "      <td>Ordinal Features</td>\n",
              "      <td>False</td>\n",
              "    </tr>\n",
              "    <tr>\n",
              "      <th>6</th>\n",
              "      <td>High Cardinality Features</td>\n",
              "      <td>False</td>\n",
              "    </tr>\n",
              "    <tr>\n",
              "      <th>7</th>\n",
              "      <td>High Cardinality Method</td>\n",
              "      <td>None</td>\n",
              "    </tr>\n",
              "    <tr>\n",
              "      <th>8</th>\n",
              "      <td>Transformed Data</td>\n",
              "      <td>(240, 3)</td>\n",
              "    </tr>\n",
              "    <tr>\n",
              "      <th>9</th>\n",
              "      <td>CPU Jobs</td>\n",
              "      <td>-1</td>\n",
              "    </tr>\n",
              "    <tr>\n",
              "      <th>10</th>\n",
              "      <td>Use GPU</td>\n",
              "      <td>False</td>\n",
              "    </tr>\n",
              "    <tr>\n",
              "      <th>11</th>\n",
              "      <td>Log Experiment</td>\n",
              "      <td>False</td>\n",
              "    </tr>\n",
              "    <tr>\n",
              "      <th>12</th>\n",
              "      <td>Experiment Name</td>\n",
              "      <td>anomaly-default-name</td>\n",
              "    </tr>\n",
              "    <tr>\n",
              "      <th>13</th>\n",
              "      <td>USI</td>\n",
              "      <td>1181</td>\n",
              "    </tr>\n",
              "    <tr>\n",
              "      <th>14</th>\n",
              "      <td>Imputation Type</td>\n",
              "      <td>simple</td>\n",
              "    </tr>\n",
              "    <tr>\n",
              "      <th>15</th>\n",
              "      <td>Iterative Imputation Iteration</td>\n",
              "      <td>None</td>\n",
              "    </tr>\n",
              "    <tr>\n",
              "      <th>16</th>\n",
              "      <td>Numeric Imputer</td>\n",
              "      <td>mean</td>\n",
              "    </tr>\n",
              "    <tr>\n",
              "      <th>17</th>\n",
              "      <td>Iterative Imputation Numeric Model</td>\n",
              "      <td>None</td>\n",
              "    </tr>\n",
              "    <tr>\n",
              "      <th>18</th>\n",
              "      <td>Categorical Imputer</td>\n",
              "      <td>mode</td>\n",
              "    </tr>\n",
              "    <tr>\n",
              "      <th>19</th>\n",
              "      <td>Iterative Imputation Categorical Model</td>\n",
              "      <td>None</td>\n",
              "    </tr>\n",
              "    <tr>\n",
              "      <th>20</th>\n",
              "      <td>Unknown Categoricals Handling</td>\n",
              "      <td>least_frequent</td>\n",
              "    </tr>\n",
              "    <tr>\n",
              "      <th>21</th>\n",
              "      <td>Normalize</td>\n",
              "      <td>True</td>\n",
              "    </tr>\n",
              "    <tr>\n",
              "      <th>22</th>\n",
              "      <td>Normalize Method</td>\n",
              "      <td>zscore</td>\n",
              "    </tr>\n",
              "    <tr>\n",
              "      <th>23</th>\n",
              "      <td>Transformation</td>\n",
              "      <td>False</td>\n",
              "    </tr>\n",
              "    <tr>\n",
              "      <th>24</th>\n",
              "      <td>Transformation Method</td>\n",
              "      <td>None</td>\n",
              "    </tr>\n",
              "    <tr>\n",
              "      <th>25</th>\n",
              "      <td>PCA</td>\n",
              "      <td>False</td>\n",
              "    </tr>\n",
              "    <tr>\n",
              "      <th>26</th>\n",
              "      <td>PCA Method</td>\n",
              "      <td>None</td>\n",
              "    </tr>\n",
              "    <tr>\n",
              "      <th>27</th>\n",
              "      <td>PCA Components</td>\n",
              "      <td>None</td>\n",
              "    </tr>\n",
              "    <tr>\n",
              "      <th>28</th>\n",
              "      <td>Ignore Low Variance</td>\n",
              "      <td>False</td>\n",
              "    </tr>\n",
              "    <tr>\n",
              "      <th>29</th>\n",
              "      <td>Combine Rare Levels</td>\n",
              "      <td>False</td>\n",
              "    </tr>\n",
              "    <tr>\n",
              "      <th>30</th>\n",
              "      <td>Rare Level Threshold</td>\n",
              "      <td>None</td>\n",
              "    </tr>\n",
              "    <tr>\n",
              "      <th>31</th>\n",
              "      <td>Numeric Binning</td>\n",
              "      <td>False</td>\n",
              "    </tr>\n",
              "    <tr>\n",
              "      <th>32</th>\n",
              "      <td>Remove Outliers</td>\n",
              "      <td>False</td>\n",
              "    </tr>\n",
              "    <tr>\n",
              "      <th>33</th>\n",
              "      <td>Outliers Threshold</td>\n",
              "      <td>None</td>\n",
              "    </tr>\n",
              "    <tr>\n",
              "      <th>34</th>\n",
              "      <td>Remove Multicollinearity</td>\n",
              "      <td>False</td>\n",
              "    </tr>\n",
              "    <tr>\n",
              "      <th>35</th>\n",
              "      <td>Multicollinearity Threshold</td>\n",
              "      <td>None</td>\n",
              "    </tr>\n",
              "    <tr>\n",
              "      <th>36</th>\n",
              "      <td>Remove Perfect Collinearity</td>\n",
              "      <td>False</td>\n",
              "    </tr>\n",
              "    <tr>\n",
              "      <th>37</th>\n",
              "      <td>Clustering</td>\n",
              "      <td>False</td>\n",
              "    </tr>\n",
              "    <tr>\n",
              "      <th>38</th>\n",
              "      <td>Clustering Iteration</td>\n",
              "      <td>None</td>\n",
              "    </tr>\n",
              "    <tr>\n",
              "      <th>39</th>\n",
              "      <td>Polynomial Features</td>\n",
              "      <td>False</td>\n",
              "    </tr>\n",
              "    <tr>\n",
              "      <th>40</th>\n",
              "      <td>Polynomial Degree</td>\n",
              "      <td>None</td>\n",
              "    </tr>\n",
              "    <tr>\n",
              "      <th>41</th>\n",
              "      <td>Trignometry Features</td>\n",
              "      <td>False</td>\n",
              "    </tr>\n",
              "    <tr>\n",
              "      <th>42</th>\n",
              "      <td>Polynomial Threshold</td>\n",
              "      <td>None</td>\n",
              "    </tr>\n",
              "    <tr>\n",
              "      <th>43</th>\n",
              "      <td>Group Features</td>\n",
              "      <td>False</td>\n",
              "    </tr>\n",
              "    <tr>\n",
              "      <th>44</th>\n",
              "      <td>Feature Selection</td>\n",
              "      <td>False</td>\n",
              "    </tr>\n",
              "    <tr>\n",
              "      <th>45</th>\n",
              "      <td>Feature Selection Method</td>\n",
              "      <td>classic</td>\n",
              "    </tr>\n",
              "    <tr>\n",
              "      <th>46</th>\n",
              "      <td>Features Selection Threshold</td>\n",
              "      <td>None</td>\n",
              "    </tr>\n",
              "    <tr>\n",
              "      <th>47</th>\n",
              "      <td>Feature Interaction</td>\n",
              "      <td>False</td>\n",
              "    </tr>\n",
              "    <tr>\n",
              "      <th>48</th>\n",
              "      <td>Feature Ratio</td>\n",
              "      <td>False</td>\n",
              "    </tr>\n",
              "    <tr>\n",
              "      <th>49</th>\n",
              "      <td>Interaction Threshold</td>\n",
              "      <td>None</td>\n",
              "    </tr>\n",
              "  </tbody>\n",
              "</table>\n",
              "</div>\n",
              "      <button class=\"colab-df-convert\" onclick=\"convertToInteractive('df-744eb9f1-d477-40d2-a763-741e91045fb4')\"\n",
              "              title=\"Convert this dataframe to an interactive table.\"\n",
              "              style=\"display:none;\">\n",
              "        \n",
              "  <svg xmlns=\"http://www.w3.org/2000/svg\" height=\"24px\"viewBox=\"0 0 24 24\"\n",
              "       width=\"24px\">\n",
              "    <path d=\"M0 0h24v24H0V0z\" fill=\"none\"/>\n",
              "    <path d=\"M18.56 5.44l.94 2.06.94-2.06 2.06-.94-2.06-.94-.94-2.06-.94 2.06-2.06.94zm-11 1L8.5 8.5l.94-2.06 2.06-.94-2.06-.94L8.5 2.5l-.94 2.06-2.06.94zm10 10l.94 2.06.94-2.06 2.06-.94-2.06-.94-.94-2.06-.94 2.06-2.06.94z\"/><path d=\"M17.41 7.96l-1.37-1.37c-.4-.4-.92-.59-1.43-.59-.52 0-1.04.2-1.43.59L10.3 9.45l-7.72 7.72c-.78.78-.78 2.05 0 2.83L4 21.41c.39.39.9.59 1.41.59.51 0 1.02-.2 1.41-.59l7.78-7.78 2.81-2.81c.8-.78.8-2.07 0-2.86zM5.41 20L4 18.59l7.72-7.72 1.47 1.35L5.41 20z\"/>\n",
              "  </svg>\n",
              "      </button>\n",
              "      \n",
              "  <style>\n",
              "    .colab-df-container {\n",
              "      display:flex;\n",
              "      flex-wrap:wrap;\n",
              "      gap: 12px;\n",
              "    }\n",
              "\n",
              "    .colab-df-convert {\n",
              "      background-color: #E8F0FE;\n",
              "      border: none;\n",
              "      border-radius: 50%;\n",
              "      cursor: pointer;\n",
              "      display: none;\n",
              "      fill: #1967D2;\n",
              "      height: 32px;\n",
              "      padding: 0 0 0 0;\n",
              "      width: 32px;\n",
              "    }\n",
              "\n",
              "    .colab-df-convert:hover {\n",
              "      background-color: #E2EBFA;\n",
              "      box-shadow: 0px 1px 2px rgba(60, 64, 67, 0.3), 0px 1px 3px 1px rgba(60, 64, 67, 0.15);\n",
              "      fill: #174EA6;\n",
              "    }\n",
              "\n",
              "    [theme=dark] .colab-df-convert {\n",
              "      background-color: #3B4455;\n",
              "      fill: #D2E3FC;\n",
              "    }\n",
              "\n",
              "    [theme=dark] .colab-df-convert:hover {\n",
              "      background-color: #434B5C;\n",
              "      box-shadow: 0px 1px 3px 1px rgba(0, 0, 0, 0.15);\n",
              "      filter: drop-shadow(0px 1px 2px rgba(0, 0, 0, 0.3));\n",
              "      fill: #FFFFFF;\n",
              "    }\n",
              "  </style>\n",
              "\n",
              "      <script>\n",
              "        const buttonEl =\n",
              "          document.querySelector('#df-744eb9f1-d477-40d2-a763-741e91045fb4 button.colab-df-convert');\n",
              "        buttonEl.style.display =\n",
              "          google.colab.kernel.accessAllowed ? 'block' : 'none';\n",
              "\n",
              "        async function convertToInteractive(key) {\n",
              "          const element = document.querySelector('#df-744eb9f1-d477-40d2-a763-741e91045fb4');\n",
              "          const dataTable =\n",
              "            await google.colab.kernel.invokeFunction('convertToInteractive',\n",
              "                                                     [key], {});\n",
              "          if (!dataTable) return;\n",
              "\n",
              "          const docLinkHtml = 'Like what you see? Visit the ' +\n",
              "            '<a target=\"_blank\" href=https://colab.research.google.com/notebooks/data_table.ipynb>data table notebook</a>'\n",
              "            + ' to learn more about interactive tables.';\n",
              "          element.innerHTML = '';\n",
              "          dataTable['output_type'] = 'display_data';\n",
              "          await google.colab.output.renderOutput(dataTable, element);\n",
              "          const docLink = document.createElement('div');\n",
              "          docLink.innerHTML = docLinkHtml;\n",
              "          element.appendChild(docLink);\n",
              "        }\n",
              "      </script>\n",
              "    </div>\n",
              "  </div>\n",
              "  "
            ],
            "text/plain": [
              "                               Description                 Value\n",
              "0                               session_id                   123\n",
              "1                            Original Data              (240, 3)\n",
              "2                           Missing Values                 False\n",
              "3                         Numeric Features                     3\n",
              "4                     Categorical Features                     0\n",
              "5                         Ordinal Features                 False\n",
              "6                High Cardinality Features                 False\n",
              "7                  High Cardinality Method                  None\n",
              "8                         Transformed Data              (240, 3)\n",
              "9                                 CPU Jobs                    -1\n",
              "10                                 Use GPU                 False\n",
              "11                          Log Experiment                 False\n",
              "12                         Experiment Name  anomaly-default-name\n",
              "13                                     USI                  1181\n",
              "14                         Imputation Type                simple\n",
              "15          Iterative Imputation Iteration                  None\n",
              "16                         Numeric Imputer                  mean\n",
              "17      Iterative Imputation Numeric Model                  None\n",
              "18                     Categorical Imputer                  mode\n",
              "19  Iterative Imputation Categorical Model                  None\n",
              "20           Unknown Categoricals Handling        least_frequent\n",
              "21                               Normalize                  True\n",
              "22                        Normalize Method                zscore\n",
              "23                          Transformation                 False\n",
              "24                   Transformation Method                  None\n",
              "25                                     PCA                 False\n",
              "26                              PCA Method                  None\n",
              "27                          PCA Components                  None\n",
              "28                     Ignore Low Variance                 False\n",
              "29                     Combine Rare Levels                 False\n",
              "30                    Rare Level Threshold                  None\n",
              "31                         Numeric Binning                 False\n",
              "32                         Remove Outliers                 False\n",
              "33                      Outliers Threshold                  None\n",
              "34                Remove Multicollinearity                 False\n",
              "35             Multicollinearity Threshold                  None\n",
              "36             Remove Perfect Collinearity                 False\n",
              "37                              Clustering                 False\n",
              "38                    Clustering Iteration                  None\n",
              "39                     Polynomial Features                 False\n",
              "40                       Polynomial Degree                  None\n",
              "41                    Trignometry Features                 False\n",
              "42                    Polynomial Threshold                  None\n",
              "43                          Group Features                 False\n",
              "44                       Feature Selection                 False\n",
              "45                Feature Selection Method               classic\n",
              "46            Features Selection Threshold                  None\n",
              "47                     Feature Interaction                 False\n",
              "48                           Feature Ratio                 False\n",
              "49                   Interaction Threshold                  None"
            ]
          },
          "metadata": {}
        }
      ]
    },
    {
      "cell_type": "markdown",
      "source": [
        "##Criando e avaliando o modelo"
      ],
      "metadata": {
        "id": "ecHH3iqkUDl1"
      }
    },
    {
      "cell_type": "code",
      "source": [
        "#Percentual de outliers\n",
        "str(round((len(p1_dataframeModis[p1_dataframeModis['NDVI']<0.4])/len(p1_dataframeModis))*100,2)) + \" % dos dados são outliers\""
      ],
      "metadata": {
        "colab": {
          "base_uri": "https://localhost:8080/",
          "height": 35
        },
        "id": "OLHwmtMRONHv",
        "outputId": "cc98f085-1ec9-4b8c-c266-208ee9b71bb1"
      },
      "execution_count": 21,
      "outputs": [
        {
          "output_type": "execute_result",
          "data": {
            "application/vnd.google.colaboratory.intrinsic+json": {
              "type": "string"
            },
            "text/plain": [
              "'0.79 % dos dados são outliers'"
            ]
          },
          "metadata": {},
          "execution_count": 21
        }
      ]
    },
    {
      "cell_type": "code",
      "source": [
        "iforest = create_model('iforest', fraction = 0.01)\n",
        "iforest_results = assign_model(iforest)\n",
        "iforest_results[iforest_results['Anomaly'] == 1].head()"
      ],
      "metadata": {
        "id": "K6Pymx10UaKp",
        "colab": {
          "base_uri": "https://localhost:8080/",
          "height": 143,
          "referenced_widgets": [
            "f750b57bbb5a46279aceb5efd6ed08f9",
            "2cf728e084034ad382e77ef4e8f0b53d",
            "8d5a83e27508418abbc995c8a5b14ba7"
          ]
        },
        "outputId": "dc8312e5-7971-4bd2-856f-91a76a5d189f"
      },
      "execution_count": 22,
      "outputs": [
        {
          "output_type": "execute_result",
          "data": {
            "text/html": [
              "\n",
              "  <div id=\"df-01f8318b-a84f-4469-90d9-d4d79c1ebd5d\">\n",
              "    <div class=\"colab-df-container\">\n",
              "      <div>\n",
              "<style scoped>\n",
              "    .dataframe tbody tr th:only-of-type {\n",
              "        vertical-align: middle;\n",
              "    }\n",
              "\n",
              "    .dataframe tbody tr th {\n",
              "        vertical-align: top;\n",
              "    }\n",
              "\n",
              "    .dataframe thead th {\n",
              "        text-align: right;\n",
              "    }\n",
              "</style>\n",
              "<table border=\"1\" class=\"dataframe\">\n",
              "  <thead>\n",
              "    <tr style=\"text-align: right;\">\n",
              "      <th></th>\n",
              "      <th>NDVI</th>\n",
              "      <th>dia_do_ano</th>\n",
              "      <th>semana_do_ano</th>\n",
              "      <th>Anomaly</th>\n",
              "      <th>Anomaly_Score</th>\n",
              "    </tr>\n",
              "  </thead>\n",
              "  <tbody>\n",
              "    <tr>\n",
              "      <th>2012-01-01</th>\n",
              "      <td>0.775073</td>\n",
              "      <td>1</td>\n",
              "      <td>52</td>\n",
              "      <td>1</td>\n",
              "      <td>0.007619</td>\n",
              "    </tr>\n",
              "    <tr>\n",
              "      <th>2016-02-18</th>\n",
              "      <td>0.333979</td>\n",
              "      <td>49</td>\n",
              "      <td>7</td>\n",
              "      <td>1</td>\n",
              "      <td>0.098826</td>\n",
              "    </tr>\n",
              "    <tr>\n",
              "      <th>2016-01-01</th>\n",
              "      <td>0.328917</td>\n",
              "      <td>1</td>\n",
              "      <td>53</td>\n",
              "      <td>1</td>\n",
              "      <td>0.147167</td>\n",
              "    </tr>\n",
              "  </tbody>\n",
              "</table>\n",
              "</div>\n",
              "      <button class=\"colab-df-convert\" onclick=\"convertToInteractive('df-01f8318b-a84f-4469-90d9-d4d79c1ebd5d')\"\n",
              "              title=\"Convert this dataframe to an interactive table.\"\n",
              "              style=\"display:none;\">\n",
              "        \n",
              "  <svg xmlns=\"http://www.w3.org/2000/svg\" height=\"24px\"viewBox=\"0 0 24 24\"\n",
              "       width=\"24px\">\n",
              "    <path d=\"M0 0h24v24H0V0z\" fill=\"none\"/>\n",
              "    <path d=\"M18.56 5.44l.94 2.06.94-2.06 2.06-.94-2.06-.94-.94-2.06-.94 2.06-2.06.94zm-11 1L8.5 8.5l.94-2.06 2.06-.94-2.06-.94L8.5 2.5l-.94 2.06-2.06.94zm10 10l.94 2.06.94-2.06 2.06-.94-2.06-.94-.94-2.06-.94 2.06-2.06.94z\"/><path d=\"M17.41 7.96l-1.37-1.37c-.4-.4-.92-.59-1.43-.59-.52 0-1.04.2-1.43.59L10.3 9.45l-7.72 7.72c-.78.78-.78 2.05 0 2.83L4 21.41c.39.39.9.59 1.41.59.51 0 1.02-.2 1.41-.59l7.78-7.78 2.81-2.81c.8-.78.8-2.07 0-2.86zM5.41 20L4 18.59l7.72-7.72 1.47 1.35L5.41 20z\"/>\n",
              "  </svg>\n",
              "      </button>\n",
              "      \n",
              "  <style>\n",
              "    .colab-df-container {\n",
              "      display:flex;\n",
              "      flex-wrap:wrap;\n",
              "      gap: 12px;\n",
              "    }\n",
              "\n",
              "    .colab-df-convert {\n",
              "      background-color: #E8F0FE;\n",
              "      border: none;\n",
              "      border-radius: 50%;\n",
              "      cursor: pointer;\n",
              "      display: none;\n",
              "      fill: #1967D2;\n",
              "      height: 32px;\n",
              "      padding: 0 0 0 0;\n",
              "      width: 32px;\n",
              "    }\n",
              "\n",
              "    .colab-df-convert:hover {\n",
              "      background-color: #E2EBFA;\n",
              "      box-shadow: 0px 1px 2px rgba(60, 64, 67, 0.3), 0px 1px 3px 1px rgba(60, 64, 67, 0.15);\n",
              "      fill: #174EA6;\n",
              "    }\n",
              "\n",
              "    [theme=dark] .colab-df-convert {\n",
              "      background-color: #3B4455;\n",
              "      fill: #D2E3FC;\n",
              "    }\n",
              "\n",
              "    [theme=dark] .colab-df-convert:hover {\n",
              "      background-color: #434B5C;\n",
              "      box-shadow: 0px 1px 3px 1px rgba(0, 0, 0, 0.15);\n",
              "      filter: drop-shadow(0px 1px 2px rgba(0, 0, 0, 0.3));\n",
              "      fill: #FFFFFF;\n",
              "    }\n",
              "  </style>\n",
              "\n",
              "      <script>\n",
              "        const buttonEl =\n",
              "          document.querySelector('#df-01f8318b-a84f-4469-90d9-d4d79c1ebd5d button.colab-df-convert');\n",
              "        buttonEl.style.display =\n",
              "          google.colab.kernel.accessAllowed ? 'block' : 'none';\n",
              "\n",
              "        async function convertToInteractive(key) {\n",
              "          const element = document.querySelector('#df-01f8318b-a84f-4469-90d9-d4d79c1ebd5d');\n",
              "          const dataTable =\n",
              "            await google.colab.kernel.invokeFunction('convertToInteractive',\n",
              "                                                     [key], {});\n",
              "          if (!dataTable) return;\n",
              "\n",
              "          const docLinkHtml = 'Like what you see? Visit the ' +\n",
              "            '<a target=\"_blank\" href=https://colab.research.google.com/notebooks/data_table.ipynb>data table notebook</a>'\n",
              "            + ' to learn more about interactive tables.';\n",
              "          element.innerHTML = '';\n",
              "          dataTable['output_type'] = 'display_data';\n",
              "          await google.colab.output.renderOutput(dataTable, element);\n",
              "          const docLink = document.createElement('div');\n",
              "          docLink.innerHTML = docLinkHtml;\n",
              "          element.appendChild(docLink);\n",
              "        }\n",
              "      </script>\n",
              "    </div>\n",
              "  </div>\n",
              "  "
            ],
            "text/plain": [
              "                NDVI  dia_do_ano  semana_do_ano  Anomaly  Anomaly_Score\n",
              "2012-01-01  0.775073           1             52        1       0.007619\n",
              "2016-02-18  0.333979          49              7        1       0.098826\n",
              "2016-01-01  0.328917           1             53        1       0.147167"
            ]
          },
          "metadata": {},
          "execution_count": 22
        }
      ]
    },
    {
      "cell_type": "code",
      "source": [
        "plot_model(iforest,feature=\"NDVI\")"
      ],
      "metadata": {
        "id": "GD1qL4IZWmol",
        "colab": {
          "base_uri": "https://localhost:8080/",
          "height": 816,
          "referenced_widgets": [
            "da6c1477ffe64fab812685a7c1cb826a",
            "0461111559034b9d9b1608b58af09bf4",
            "85def3750e65485d972001c9d5eaa401"
          ]
        },
        "outputId": "265c70e3-1e16-46a7-ea0f-0c75d65d3383"
      },
      "execution_count": 23,
      "outputs": [
        {
          "output_type": "display_data",
          "data": {
            "text/html": [
              "<html>\n",
              "<head><meta charset=\"utf-8\" /></head>\n",
              "<body>\n",
              "    <div>            <script src=\"https://cdnjs.cloudflare.com/ajax/libs/mathjax/2.7.5/MathJax.js?config=TeX-AMS-MML_SVG\"></script><script type=\"text/javascript\">if (window.MathJax) {MathJax.Hub.Config({SVG: {font: \"STIX-Web\"}});}</script>                <script type=\"text/javascript\">window.PlotlyConfig = {MathJaxConfig: 'local'};</script>\n",
              "        <script src=\"https://cdn.plot.ly/plotly-2.8.3.min.js\"></script>                <div id=\"6b9e8759-8bb2-4141-8263-431154c559fe\" class=\"plotly-graph-div\" style=\"height:800px; width:900px;\"></div>            <script type=\"text/javascript\">                                    window.PLOTLYENV=window.PLOTLYENV || {};                                    if (document.getElementById(\"6b9e8759-8bb2-4141-8263-431154c559fe\")) {                    Plotly.newPlot(                        \"6b9e8759-8bb2-4141-8263-431154c559fe\",                        [{\"customdata\":[[null],[null],[null],[null],[null],[null],[null],[null],[null],[null],[null],[null],[null],[null],[null],[null],[null],[null],[null],[null],[null],[null],[null],[null],[null],[null],[null],[null],[null],[null],[null],[null],[null],[null],[null],[null],[null],[null],[null],[null],[null],[null],[null],[null],[null],[null],[null],[null],[null],[null],[null],[null],[null],[null],[null],[null],[null],[null],[null],[null],[null],[null],[null],[null],[null],[null],[null],[null],[null],[null],[null],[null],[null],[null],[null],[null],[null],[null],[null],[null],[null],[null],[null],[null],[null],[null],[null],[null],[null],[null],[null],[null],[null],[null],[null],[null],[null],[null],[null],[null],[null],[null],[null],[null],[null],[null],[null],[null],[null],[null],[null],[null],[null],[null],[null],[null],[null],[null],[null],[null],[null],[null],[null],[null],[null],[null],[null],[null],[null],[null],[null],[null],[null],[null],[null],[null],[null],[null],[null],[null],[null],[null],[null],[null],[null],[null],[null],[null],[null],[null],[null],[null],[null],[null],[null],[null],[null],[null],[null],[null],[null],[null],[null],[null],[null],[null],[null],[null],[null],[null],[null],[null],[null],[null],[null],[null],[null],[null],[null],[null],[null],[null],[null],[null],[null],[null],[null],[null],[null],[null],[null],[null],[null],[null],[null],[null],[null],[null],[null],[null],[null],[null],[null],[null],[null],[null],[null],[null],[null],[null],[null],[null],[null],[null],[null],[null],[null],[null],[null],[null],[null],[null],[null],[null],[null],[null],[null],[null],[null],[null],[null],[null],[null],[null],[null],[null],[null],[null],[null],[null]],\"hovertemplate\":\"0=%{x}<br>1=%{y}<br>2=%{z}<br>Feature=%{customdata[0]}<br>Anomaly=%{marker.color}<extra></extra>\",\"legendgroup\":\"\",\"marker\":{\"color\":[0,0,0,0,0,0,0,0,0,0,0,0,0,0,0,0,0,0,0,0,0,0,0,0,0,0,0,0,0,0,0,0,0,0,0,0,0,0,0,0,0,0,0,0,0,0,0,0,0,1,0,0,0,0,0,0,0,0,0,0,0,0,1,0,0,0,0,0,0,0,0,0,0,0,0,0,0,0,0,0,0,0,0,0,0,0,0,0,0,0,0,0,0,0,0,0,0,0,0,0,0,0,0,0,0,0,0,0,0,0,0,0,0,0,0,0,0,0,0,0,0,0,0,0,0,0,0,0,0,0,0,0,0,0,0,0,0,0,0,0,0,0,0,0,0,0,0,0,0,0,0,0,0,0,0,0,0,0,0,0,0,0,0,0,0,0,0,0,0,0,0,0,0,0,0,0,0,0,0,0,0,0,0,0,0,0,1,0,0,0,0,0,0,0,0,0,0,0,0,0,0,0,0,0,0,0,0,0,0,0,0,0,0,0,0,0,0,0,0,0,0,0,0,0,0,0,0,0,0,0,0,0,0,0,0,0,0,0,0,0],\"coloraxis\":\"coloraxis\",\"opacity\":0.7,\"symbol\":\"circle\"},\"mode\":\"markers\",\"name\":\"\",\"scene\":\"scene\",\"showlegend\":false,\"x\":[15.842981338500977,90.30931091308594,-7.8386359214782715,56.99781799316406,53.15446853637695,28.217100143432617,-65.99211883544922,-35.18605422973633,-36.052642822265625,-43.32875061035156,-24.715002059936523,-44.6132926940918,-61.072322845458984,-8.330254554748535,17.330686569213867,11.781678199768066,-62.08580017089844,63.436912536621094,-67.82266235351562,-58.242149353027344,-0.7500409483909607,22.741825103759766,-3.2804646492004395,4.266037464141846,82.9052963256836,122.51392364501953,-9.595344543457031,32.4385986328125,-35.53281784057617,-41.92011260986328,-28.75092887878418,-54.492095947265625,-66.38612365722656,-71.42221069335938,34.208030700683594,74.90400695800781,-50.7264518737793,-37.399940490722656,8.168252944946289,73.14086151123047,23.0875244140625,50.27681350708008,-89.46662139892578,60.7284049987793,103.72199249267578,-3.66658878326416,-106.67664337158203,-34.4208869934082,38.565345764160156,-90.90475463867188,-27.63233757019043,-10.553985595703125,104.41720581054688,-1.9634597301483154,52.04024124145508,97.93773651123047,-15.790024757385254,-87.6515121459961,-69.34382629394531,-34.755977630615234,57.67843246459961,22.928516387939453,37.46365737915039,-43.367218017578125,34.298160552978516,41.18939971923828,1.0138901472091675,41.36905288696289,-13.955622673034668,-33.02446365356445,-56.929931640625,-18.847667694091797,122.67188262939453,11.700109481811523,-65.1875,14.573345184326172,11.529635429382324,-20.54305076599121,1.3583406209945679,-55.206764221191406,-28.821252822875977,-2.0383474826812744,74.41056060791016,-3.6643731594085693,48.45720291137695,-53.560447692871094,-92.82327270507812,13.478128433227539,69.29762268066406,24.98431968688965,-43.215415954589844,-37.0884895324707,-59.40989685058594,-27.199316024780273,64.73329162597656,-75.05026245117188,112.41635131835938,25.969097137451172,-6.167585849761963,-68.17169189453125,-22.927461624145508,-129.7236785888672,-37.418479919433594,114.26415252685547,29.36322593688965,38.062374114990234,-49.12532043457031,-25.000713348388672,-2.2739510536193848,-34.37110900878906,-52.16067886352539,39.194366455078125,-12.051486015319824,14.611714363098145,81.75052642822266,16.89881134033203,21.534265518188477,1.2438139915466309,-21.681468963623047,37.93964767456055,-57.076995849609375,-0.2610819935798645,-43.91740417480469,49.502567291259766,-73.44737243652344,-81.92797088623047,98.95528411865234,78.52040100097656,-42.04098129272461,52.51866149902344,-18.07809829711914,16.194225311279297,-38.20289993286133,-6.509422302246094,69.54178619384766,11.503570556640625,11.522151947021484,82.1990966796875,12.416767120361328,-85.81156921386719,-36.662906646728516,-44.33700942993164,-2.13336181640625,-40.0965576171875,15.558393478393555,-59.990535736083984,69.03350067138672,96.04338836669922,82.94808197021484,-7.927614688873291,-31.579801559448242,-90.32428741455078,-29.387168884277344,-25.918180465698242,-63.95606231689453,39.17946243286133,-107.84375762939453,-23.334949493408203,-55.67348098754883,24.312198638916016,127.69388580322266,94.66963958740234,2.5724525451660156,-128.18296813964844,41.40424346923828,-26.222129821777344,85.93495178222656,30.04646873474121,-24.05962562561035,89.64076232910156,67.1388931274414,25.416851043701172,55.80282211303711,11.009893417358398,65.10623168945312,-74.7682876586914,95.74446868896484,62.840633392333984,-7.461307048797607,-94.29768371582031,-3.855889320373535,40.43648147583008,37.9362907409668,-32.421573638916016,39.02219772338867,-16.912099838256836,-38.09446716308594,96.22116088867188,-1.0765509605407715,17.04107093811035,-61.44875717163086,-69.61225128173828,67.90245819091797,67.72566986083984,-62.94603729248047,6.697794437408447,-98.07520294189453,29.052034378051758,-34.22265625,21.02858543395996,-11.758170127868652,49.91109848022461,-7.4697699546813965,54.044795989990234,-117.52238464355469,-17.52641487121582,-59.22397232055664,-3.4140167236328125,-26.304851531982422,-20.75924301147461,46.2904167175293,-5.898155212402344,-80.80054473876953,-4.390989303588867,-77.53082275390625,-60.642826080322266,-40.286041259765625,-59.19164276123047,54.5135612487793,-31.679346084594727,-8.973908424377441,74.4817886352539,33.82651138305664,-87.782470703125,-22.114389419555664,-79.37664794921875,17.43221664428711,-35.48915100097656,25.04132652282715,105.4406509399414,-14.241105079650879,64.9500961303711,75.32067108154297,-27.08856964111328,3.5325770378112793,92.60918426513672,-33.01344299316406,-114.378662109375,8.548300743103027,-0.5708574652671814],\"y\":[73.1646957397461,7.935686111450195,-13.11086368560791,-41.8536491394043,44.94324493408203,-35.81486511230469,43.03028869628906,-41.34550857543945,-68.68809509277344,16.265722274780273,21.073871612548828,46.29419708251953,-11.853351593017578,-18.93569564819336,-11.406989097595215,-53.01795196533203,15.736164093017578,91.02293395996094,64.13019561767578,-36.84267044067383,40.05898666381836,2.0235116481781006,-34.346961975097656,3.706331253051758,-21.961669921875,-59.66204071044922,18.764236450195312,51.56886672973633,-36.06581115722656,78.93907928466797,48.53509521484375,97.2326889038086,-0.12629097700119019,-53.53254318237305,-39.340877532958984,-53.79924774169922,29.357431411743164,19.84250259399414,-40.099483489990234,-111.29065704345703,-78.9221420288086,31.439300537109375,90.83346557617188,61.43439865112305,-7.084392070770264,92.50653839111328,42.69498825073242,-4.607433319091797,11.760981559753418,74.7458267211914,-103.87892150878906,-37.75823974609375,-9.682791709899902,89.7724838256836,8.12593936920166,-10.65761947631836,-45.15742874145508,-57.52778625488281,40.11347961425781,-27.65781593322754,-76.12876892089844,100.43069458007812,-139.91915893554688,51.54757308959961,-51.32383728027344,4.918759346008301,-13.905900001525879,130.80857849121094,-1.401136875152588,-7.017505645751953,102.92608642578125,17.34769630432129,21.835250854492188,-55.3634033203125,6.314504623413086,22.491830825805664,72.79135131835938,-24.621971130371094,47.36280822753906,-49.50902557373047,-81.22809600830078,17.091310501098633,-86.61571502685547,-35.71499252319336,34.300106048583984,-68.94818115234375,-20.600345611572266,59.49545669555664,18.302337646484375,1.4972721338272095,-22.17150115966797,32.90807342529297,86.76207733154297,-17.616113662719727,-22.859649658203125,81.27942657470703,-42.27687072753906,28.06214141845703,-107.98506927490234,-38.65628433227539,56.70462417602539,72.11041259765625,19.129100799560547,-73.50335693359375,22.213748931884766,-113.7227554321289,-65.98348236083984,21.231678009033203,-55.918025970458984,-126.98043823242188,-100.65829467773438,-84.50789642333984,118.89276885986328,45.66998291015625,8.667021751403809,8.384188652038574,26.45482635498047,-13.80959701538086,-95.04853057861328,65.38275909423828,3.01121187210083,43.909568786621094,73.02932739257812,-75.10881042480469,87.4108657836914,-32.77626037597656,-47.449493408203125,-80.62427520751953,10.432159423828125,-117.28106689453125,-50.29447937011719,-101.75672149658203,49.518310546875,-83.34362030029297,14.398542404174805,-9.333239555358887,-73.4072036743164,-59.895469665527344,17.654321670532227,89.95852661132812,-10.357142448425293,115.36176300048828,-35.899967193603516,-54.65226745605469,71.2085952758789,59.826011657714844,-96.56221771240234,-19.61033821105957,-13.771363258361816,69.93829345703125,91.10010528564453,-9.670345306396484,45.76970672607422,95.6243667602539,-17.177249908447266,-20.147390365600586,-94.86235046386719,-76.07667541503906,-6.728188991546631,-12.439251899719238,14.403956413269043,31.96461296081543,82.56727600097656,-54.52174377441406,-50.9593620300293,100.22665405273438,-43.20292663574219,-29.825119018554688,19.504682540893555,49.6226692199707,67.23348999023438,-73.77912139892578,-81.2762680053711,45.26062774658203,-1.3458367586135864,-106.03463745117188,-80.32520294189453,-13.641703605651855,87.02922821044922,26.502756118774414,34.42900085449219,56.48793029785156,52.155517578125,42.68522262573242,-84.81147766113281,47.49861526489258,149.7459259033203,-98.87053680419922,-78.40396881103516,110.53282165527344,33.26985549926758,-1.6038966178894043,-113.39412689208984,-11.446189880371094,-73.0255126953125,19.21254539489746,-31.820785522460938,-61.404579162597656,-43.309391021728516,36.39741897583008,18.518047332763672,-52.45376205444336,51.956172943115234,-13.606417655944824,-59.031490325927734,59.355735778808594,-23.390308380126953,-83.03168487548828,-109.3706283569336,66.8818130493164,10.521977424621582,73.01728820800781,-26.445236206054688,-100.08028411865234,113.4874267578125,32.81847381591797,76.47294616699219,91.47734069824219,-51.02858352661133,76.91315460205078,34.55472946166992,6.028556823730469,84.60419464111328,14.298669815063477,9.084010124206543,-105.57769012451172,31.368343353271484,-90.7187271118164,-99.90255737304688,-80.18907165527344,-64.565185546875,-54.94170379638672,-37.502689361572266,90.31355285644531,116.3598861694336,-95.17970275878906,119.25110626220703,0.28471648693084717,-42.18109893798828,17.344728469848633],\"z\":[-57.36906814575195,-32.77720642089844,108.64849090576172,-75.09565734863281,-102.59538269042969,-58.39619445800781,129.0589599609375,75.77838897705078,141.55657958984375,-28.010234832763672,1.0989062786102295,-1.589057207107544,-20.337623596191406,-34.79753494262695,-18.331769943237305,20.451648712158203,-2.227806806564331,-42.3423957824707,-39.96951675415039,-69.60301208496094,160.57269287109375,-127.74259948730469,176.90487670898438,158.2442626953125,-89.23130798339844,2.878387689590454,98.39556121826172,-41.628807067871094,-30.882644653320312,-43.18675994873047,144.8400421142578,11.814326286315918,62.68625259399414,86.89321899414062,78.85885620117188,-15.712578773498535,154.91348266601562,125.00279235839844,48.29939651489258,65.13601684570312,5.97287654876709,17.88081169128418,-36.336753845214844,81.73812103271484,-106.56039428710938,-26.911462783813477,109.50421142578125,151.17332458496094,-1.1079891920089722,48.19428253173828,28.01577377319336,92.10993957519531,-73.9565200805664,1.7577654123306274,116.69386291503906,57.191890716552734,-52.87857437133789,25.540695190429688,17.086013793945312,110.52256774902344,-66.85157012939453,-6.477518081665039,54.968441009521484,26.817020416259766,-1.258170485496521,26.72627830505371,-109.43731689453125,-32.00577163696289,71.74742126464844,-8.63084888458252,-50.799163818359375,38.52812194824219,27.84786033630371,-145.6167755126953,94.77085876464844,-13.467123031616211,98.3116226196289,-82.2633056640625,-44.42385482788086,40.152652740478516,51.14992904663086,-129.5403594970703,-46.74912643432617,-4.219695091247559,-131.35574340820312,-0.5299746990203857,34.46773147583008,-114.1044921875,-112.96107482910156,-98.45594024658203,57.9641227722168,-85.43245697021484,-19.034900665283203,17.881389617919922,-8.453459739685059,-64.44277954101562,-92.92385864257812,148.58248901367188,52.278499603271484,113.51725769042969,-93.49951171875,-32.73234939575195,86.52826690673828,-76.97803497314453,-74.35307312011719,-69.16749572753906,-50.17064666748047,170.1519775390625,-27.998563766479492,45.17955780029297,64.22985076904297,69.09742736816406,-18.208770751953125,-140.09017944335938,-84.14814758300781,87.89047241210938,-110.18974304199219,29.293996810913086,-36.37921142578125,-126.7714614868164,172.20947265625,118.01272583007812,-119.80787658691406,12.88174819946289,56.60485076904297,-48.613136291503906,-62.865211486816406,70.4248046875,56.37212371826172,-46.63825988769531,26.021533966064453,73.02349090576172,-46.56217575073242,-98.378662109375,30.7596378326416,-76.85143280029297,67.96587371826172,-83.84551239013672,120.82371520996094,4.062321662902832,85.86592102050781,-24.092262268066406,123.54220581054688,-95.73429107666016,-14.802275657653809,-86.27533721923828,-86.52554321289062,-12.297842025756836,13.381502151489258,132.8478546142578,-11.205876350402832,94.02642822265625,109.85657501220703,26.337833404541016,-94.79998016357422,53.057193756103516,27.004594802856445,79.7536849975586,13.721854209899902,118.28076171875,-12.254555702209473,-101.11233520507812,30.615800857543945,67.56922149658203,28.865856170654297,-56.0921630859375,-111.69499969482422,-104.26004791259766,-62.540863037109375,-7.745635032653809,25.04214096069336,40.51453399658203,43.18013381958008,-85.8177719116211,-156.20980834960938,31.91574478149414,-102.55814361572266,-113.26969146728516,-127.7975082397461,-97.12428283691406,55.64208221435547,7.8416242599487305,39.452762603759766,61.919586181640625,-39.82262420654297,-66.25013732910156,-67.84274291992188,-72.94701385498047,127.23340606689453,71.6402359008789,62.84934997558594,143.0239715576172,34.884239196777344,-33.24391174316406,46.549346923828125,-57.40960693359375,-2.0599119663238525,-75.89470672607422,-0.6604021787643433,96.76146697998047,137.0991668701172,-36.62374496459961,87.3163833618164,-83.56600189208984,-26.34076499938965,-130.6423797607422,87.59635925292969,36.45250701904297,73.45186614990234,12.412376403808594,-44.13438034057617,-79.01677703857422,69.30467987060547,6.250248432159424,-16.166263580322266,-60.06450653076172,-74.77647399902344,-91.72174072265625,-103.8520736694336,108.22113800048828,-105.98631286621094,-5.894798755645752,29.59444808959961,73.78102111816406,-101.36433410644531,-17.843595504760742,17.451295852661133,1.8426011800765991,27.961870193481445,-48.62372970581055,-4.295959949493408,52.91523361206055,-36.58177185058594,-104.71919250488281,10.766373634338379,42.909244537353516,7.744740009307861,-28.081281661987305,-90.24710083007812,-84.45832824707031],\"type\":\"scatter3d\"}],                        {\"template\":{\"data\":{\"bar\":[{\"error_x\":{\"color\":\"#2a3f5f\"},\"error_y\":{\"color\":\"#2a3f5f\"},\"marker\":{\"line\":{\"color\":\"#E5ECF6\",\"width\":0.5},\"pattern\":{\"fillmode\":\"overlay\",\"size\":10,\"solidity\":0.2}},\"type\":\"bar\"}],\"barpolar\":[{\"marker\":{\"line\":{\"color\":\"#E5ECF6\",\"width\":0.5},\"pattern\":{\"fillmode\":\"overlay\",\"size\":10,\"solidity\":0.2}},\"type\":\"barpolar\"}],\"carpet\":[{\"aaxis\":{\"endlinecolor\":\"#2a3f5f\",\"gridcolor\":\"white\",\"linecolor\":\"white\",\"minorgridcolor\":\"white\",\"startlinecolor\":\"#2a3f5f\"},\"baxis\":{\"endlinecolor\":\"#2a3f5f\",\"gridcolor\":\"white\",\"linecolor\":\"white\",\"minorgridcolor\":\"white\",\"startlinecolor\":\"#2a3f5f\"},\"type\":\"carpet\"}],\"choropleth\":[{\"colorbar\":{\"outlinewidth\":0,\"ticks\":\"\"},\"type\":\"choropleth\"}],\"contour\":[{\"colorbar\":{\"outlinewidth\":0,\"ticks\":\"\"},\"colorscale\":[[0.0,\"#0d0887\"],[0.1111111111111111,\"#46039f\"],[0.2222222222222222,\"#7201a8\"],[0.3333333333333333,\"#9c179e\"],[0.4444444444444444,\"#bd3786\"],[0.5555555555555556,\"#d8576b\"],[0.6666666666666666,\"#ed7953\"],[0.7777777777777778,\"#fb9f3a\"],[0.8888888888888888,\"#fdca26\"],[1.0,\"#f0f921\"]],\"type\":\"contour\"}],\"contourcarpet\":[{\"colorbar\":{\"outlinewidth\":0,\"ticks\":\"\"},\"type\":\"contourcarpet\"}],\"heatmap\":[{\"colorbar\":{\"outlinewidth\":0,\"ticks\":\"\"},\"colorscale\":[[0.0,\"#0d0887\"],[0.1111111111111111,\"#46039f\"],[0.2222222222222222,\"#7201a8\"],[0.3333333333333333,\"#9c179e\"],[0.4444444444444444,\"#bd3786\"],[0.5555555555555556,\"#d8576b\"],[0.6666666666666666,\"#ed7953\"],[0.7777777777777778,\"#fb9f3a\"],[0.8888888888888888,\"#fdca26\"],[1.0,\"#f0f921\"]],\"type\":\"heatmap\"}],\"heatmapgl\":[{\"colorbar\":{\"outlinewidth\":0,\"ticks\":\"\"},\"colorscale\":[[0.0,\"#0d0887\"],[0.1111111111111111,\"#46039f\"],[0.2222222222222222,\"#7201a8\"],[0.3333333333333333,\"#9c179e\"],[0.4444444444444444,\"#bd3786\"],[0.5555555555555556,\"#d8576b\"],[0.6666666666666666,\"#ed7953\"],[0.7777777777777778,\"#fb9f3a\"],[0.8888888888888888,\"#fdca26\"],[1.0,\"#f0f921\"]],\"type\":\"heatmapgl\"}],\"histogram\":[{\"marker\":{\"pattern\":{\"fillmode\":\"overlay\",\"size\":10,\"solidity\":0.2}},\"type\":\"histogram\"}],\"histogram2d\":[{\"colorbar\":{\"outlinewidth\":0,\"ticks\":\"\"},\"colorscale\":[[0.0,\"#0d0887\"],[0.1111111111111111,\"#46039f\"],[0.2222222222222222,\"#7201a8\"],[0.3333333333333333,\"#9c179e\"],[0.4444444444444444,\"#bd3786\"],[0.5555555555555556,\"#d8576b\"],[0.6666666666666666,\"#ed7953\"],[0.7777777777777778,\"#fb9f3a\"],[0.8888888888888888,\"#fdca26\"],[1.0,\"#f0f921\"]],\"type\":\"histogram2d\"}],\"histogram2dcontour\":[{\"colorbar\":{\"outlinewidth\":0,\"ticks\":\"\"},\"colorscale\":[[0.0,\"#0d0887\"],[0.1111111111111111,\"#46039f\"],[0.2222222222222222,\"#7201a8\"],[0.3333333333333333,\"#9c179e\"],[0.4444444444444444,\"#bd3786\"],[0.5555555555555556,\"#d8576b\"],[0.6666666666666666,\"#ed7953\"],[0.7777777777777778,\"#fb9f3a\"],[0.8888888888888888,\"#fdca26\"],[1.0,\"#f0f921\"]],\"type\":\"histogram2dcontour\"}],\"mesh3d\":[{\"colorbar\":{\"outlinewidth\":0,\"ticks\":\"\"},\"type\":\"mesh3d\"}],\"parcoords\":[{\"line\":{\"colorbar\":{\"outlinewidth\":0,\"ticks\":\"\"}},\"type\":\"parcoords\"}],\"pie\":[{\"automargin\":true,\"type\":\"pie\"}],\"scatter\":[{\"marker\":{\"colorbar\":{\"outlinewidth\":0,\"ticks\":\"\"}},\"type\":\"scatter\"}],\"scatter3d\":[{\"line\":{\"colorbar\":{\"outlinewidth\":0,\"ticks\":\"\"}},\"marker\":{\"colorbar\":{\"outlinewidth\":0,\"ticks\":\"\"}},\"type\":\"scatter3d\"}],\"scattercarpet\":[{\"marker\":{\"colorbar\":{\"outlinewidth\":0,\"ticks\":\"\"}},\"type\":\"scattercarpet\"}],\"scattergeo\":[{\"marker\":{\"colorbar\":{\"outlinewidth\":0,\"ticks\":\"\"}},\"type\":\"scattergeo\"}],\"scattergl\":[{\"marker\":{\"colorbar\":{\"outlinewidth\":0,\"ticks\":\"\"}},\"type\":\"scattergl\"}],\"scattermapbox\":[{\"marker\":{\"colorbar\":{\"outlinewidth\":0,\"ticks\":\"\"}},\"type\":\"scattermapbox\"}],\"scatterpolar\":[{\"marker\":{\"colorbar\":{\"outlinewidth\":0,\"ticks\":\"\"}},\"type\":\"scatterpolar\"}],\"scatterpolargl\":[{\"marker\":{\"colorbar\":{\"outlinewidth\":0,\"ticks\":\"\"}},\"type\":\"scatterpolargl\"}],\"scatterternary\":[{\"marker\":{\"colorbar\":{\"outlinewidth\":0,\"ticks\":\"\"}},\"type\":\"scatterternary\"}],\"surface\":[{\"colorbar\":{\"outlinewidth\":0,\"ticks\":\"\"},\"colorscale\":[[0.0,\"#0d0887\"],[0.1111111111111111,\"#46039f\"],[0.2222222222222222,\"#7201a8\"],[0.3333333333333333,\"#9c179e\"],[0.4444444444444444,\"#bd3786\"],[0.5555555555555556,\"#d8576b\"],[0.6666666666666666,\"#ed7953\"],[0.7777777777777778,\"#fb9f3a\"],[0.8888888888888888,\"#fdca26\"],[1.0,\"#f0f921\"]],\"type\":\"surface\"}],\"table\":[{\"cells\":{\"fill\":{\"color\":\"#EBF0F8\"},\"line\":{\"color\":\"white\"}},\"header\":{\"fill\":{\"color\":\"#C8D4E3\"},\"line\":{\"color\":\"white\"}},\"type\":\"table\"}]},\"layout\":{\"annotationdefaults\":{\"arrowcolor\":\"#2a3f5f\",\"arrowhead\":0,\"arrowwidth\":1},\"autotypenumbers\":\"strict\",\"coloraxis\":{\"colorbar\":{\"outlinewidth\":0,\"ticks\":\"\"}},\"colorscale\":{\"diverging\":[[0,\"#8e0152\"],[0.1,\"#c51b7d\"],[0.2,\"#de77ae\"],[0.3,\"#f1b6da\"],[0.4,\"#fde0ef\"],[0.5,\"#f7f7f7\"],[0.6,\"#e6f5d0\"],[0.7,\"#b8e186\"],[0.8,\"#7fbc41\"],[0.9,\"#4d9221\"],[1,\"#276419\"]],\"sequential\":[[0.0,\"#0d0887\"],[0.1111111111111111,\"#46039f\"],[0.2222222222222222,\"#7201a8\"],[0.3333333333333333,\"#9c179e\"],[0.4444444444444444,\"#bd3786\"],[0.5555555555555556,\"#d8576b\"],[0.6666666666666666,\"#ed7953\"],[0.7777777777777778,\"#fb9f3a\"],[0.8888888888888888,\"#fdca26\"],[1.0,\"#f0f921\"]],\"sequentialminus\":[[0.0,\"#0d0887\"],[0.1111111111111111,\"#46039f\"],[0.2222222222222222,\"#7201a8\"],[0.3333333333333333,\"#9c179e\"],[0.4444444444444444,\"#bd3786\"],[0.5555555555555556,\"#d8576b\"],[0.6666666666666666,\"#ed7953\"],[0.7777777777777778,\"#fb9f3a\"],[0.8888888888888888,\"#fdca26\"],[1.0,\"#f0f921\"]]},\"colorway\":[\"#636efa\",\"#EF553B\",\"#00cc96\",\"#ab63fa\",\"#FFA15A\",\"#19d3f3\",\"#FF6692\",\"#B6E880\",\"#FF97FF\",\"#FECB52\"],\"font\":{\"color\":\"#2a3f5f\"},\"geo\":{\"bgcolor\":\"white\",\"lakecolor\":\"white\",\"landcolor\":\"#E5ECF6\",\"showlakes\":true,\"showland\":true,\"subunitcolor\":\"white\"},\"hoverlabel\":{\"align\":\"left\"},\"hovermode\":\"closest\",\"mapbox\":{\"style\":\"light\"},\"paper_bgcolor\":\"white\",\"plot_bgcolor\":\"#E5ECF6\",\"polar\":{\"angularaxis\":{\"gridcolor\":\"white\",\"linecolor\":\"white\",\"ticks\":\"\"},\"bgcolor\":\"#E5ECF6\",\"radialaxis\":{\"gridcolor\":\"white\",\"linecolor\":\"white\",\"ticks\":\"\"}},\"scene\":{\"xaxis\":{\"backgroundcolor\":\"#E5ECF6\",\"gridcolor\":\"white\",\"gridwidth\":2,\"linecolor\":\"white\",\"showbackground\":true,\"ticks\":\"\",\"zerolinecolor\":\"white\"},\"yaxis\":{\"backgroundcolor\":\"#E5ECF6\",\"gridcolor\":\"white\",\"gridwidth\":2,\"linecolor\":\"white\",\"showbackground\":true,\"ticks\":\"\",\"zerolinecolor\":\"white\"},\"zaxis\":{\"backgroundcolor\":\"#E5ECF6\",\"gridcolor\":\"white\",\"gridwidth\":2,\"linecolor\":\"white\",\"showbackground\":true,\"ticks\":\"\",\"zerolinecolor\":\"white\"}},\"shapedefaults\":{\"line\":{\"color\":\"#2a3f5f\"}},\"ternary\":{\"aaxis\":{\"gridcolor\":\"white\",\"linecolor\":\"white\",\"ticks\":\"\"},\"baxis\":{\"gridcolor\":\"white\",\"linecolor\":\"white\",\"ticks\":\"\"},\"bgcolor\":\"#E5ECF6\",\"caxis\":{\"gridcolor\":\"white\",\"linecolor\":\"white\",\"ticks\":\"\"}},\"title\":{\"x\":0.05},\"xaxis\":{\"automargin\":true,\"gridcolor\":\"white\",\"linecolor\":\"white\",\"ticks\":\"\",\"title\":{\"standoff\":15},\"zerolinecolor\":\"white\",\"zerolinewidth\":2},\"yaxis\":{\"automargin\":true,\"gridcolor\":\"white\",\"linecolor\":\"white\",\"ticks\":\"\",\"title\":{\"standoff\":15},\"zerolinecolor\":\"white\",\"zerolinewidth\":2}}},\"scene\":{\"domain\":{\"x\":[0.0,1.0],\"y\":[0.0,1.0]},\"xaxis\":{\"title\":{\"text\":\"0\"}},\"yaxis\":{\"title\":{\"text\":\"1\"}},\"zaxis\":{\"title\":{\"text\":\"2\"}}},\"coloraxis\":{\"colorbar\":{\"title\":{\"text\":\"Anomaly\"}},\"colorscale\":[[0.0,\"#0d0887\"],[0.1111111111111111,\"#46039f\"],[0.2222222222222222,\"#7201a8\"],[0.3333333333333333,\"#9c179e\"],[0.4444444444444444,\"#bd3786\"],[0.5555555555555556,\"#d8576b\"],[0.6666666666666666,\"#ed7953\"],[0.7777777777777778,\"#fb9f3a\"],[0.8888888888888888,\"#fdca26\"],[1.0,\"#f0f921\"]]},\"legend\":{\"tracegroupgap\":0},\"title\":{\"text\":\"3d TSNE Plot for Outliers\"},\"height\":800,\"width\":900},                        {\"responsive\": true}                    ).then(function(){\n",
              "                            \n",
              "var gd = document.getElementById('6b9e8759-8bb2-4141-8263-431154c559fe');\n",
              "var x = new MutationObserver(function (mutations, observer) {{\n",
              "        var display = window.getComputedStyle(gd).display;\n",
              "        if (!display || display === 'none') {{\n",
              "            console.log([gd, 'removed!']);\n",
              "            Plotly.purge(gd);\n",
              "            observer.disconnect();\n",
              "        }}\n",
              "}});\n",
              "\n",
              "// Listen for the removal of the full notebook cells\n",
              "var notebookContainer = gd.closest('#notebook-container');\n",
              "if (notebookContainer) {{\n",
              "    x.observe(notebookContainer, {childList: true});\n",
              "}}\n",
              "\n",
              "// Listen for the clearing of the current output cell\n",
              "var outputEl = gd.closest('.output');\n",
              "if (outputEl) {{\n",
              "    x.observe(outputEl, {childList: true});\n",
              "}}\n",
              "\n",
              "                        })                };                            </script>        </div>\n",
              "</body>\n",
              "</html>"
            ]
          },
          "metadata": {}
        }
      ]
    },
    {
      "cell_type": "code",
      "source": [
        "data_unseen['NDVI'][0] = 0.5\n",
        "unseen_predictions = predict_model(iforest, data=data_unseen)\n",
        "unseen_predictions[unseen_predictions['Anomaly'] == 1].head()"
      ],
      "metadata": {
        "colab": {
          "base_uri": "https://localhost:8080/",
          "height": 112
        },
        "id": "XD9pKPj8XNCt",
        "outputId": "81535e93-d2c0-496c-9aa3-7e74d2fb2e12"
      },
      "execution_count": 24,
      "outputs": [
        {
          "output_type": "execute_result",
          "data": {
            "text/html": [
              "\n",
              "  <div id=\"df-62bfb727-2b90-41bc-818a-3b79d2af1f92\">\n",
              "    <div class=\"colab-df-container\">\n",
              "      <div>\n",
              "<style scoped>\n",
              "    .dataframe tbody tr th:only-of-type {\n",
              "        vertical-align: middle;\n",
              "    }\n",
              "\n",
              "    .dataframe tbody tr th {\n",
              "        vertical-align: top;\n",
              "    }\n",
              "\n",
              "    .dataframe thead th {\n",
              "        text-align: right;\n",
              "    }\n",
              "</style>\n",
              "<table border=\"1\" class=\"dataframe\">\n",
              "  <thead>\n",
              "    <tr style=\"text-align: right;\">\n",
              "      <th></th>\n",
              "      <th>NDVI</th>\n",
              "      <th>dia_do_ano</th>\n",
              "      <th>semana_do_ano</th>\n",
              "      <th>Anomaly</th>\n",
              "      <th>Anomaly_Score</th>\n",
              "    </tr>\n",
              "  </thead>\n",
              "  <tbody>\n",
              "    <tr>\n",
              "      <th>2009-11-17</th>\n",
              "      <td>0.500000</td>\n",
              "      <td>321</td>\n",
              "      <td>47</td>\n",
              "      <td>1</td>\n",
              "      <td>0.014261</td>\n",
              "    </tr>\n",
              "    <tr>\n",
              "      <th>2010-01-01</th>\n",
              "      <td>0.816564</td>\n",
              "      <td>1</td>\n",
              "      <td>53</td>\n",
              "      <td>1</td>\n",
              "      <td>0.028997</td>\n",
              "    </tr>\n",
              "  </tbody>\n",
              "</table>\n",
              "</div>\n",
              "      <button class=\"colab-df-convert\" onclick=\"convertToInteractive('df-62bfb727-2b90-41bc-818a-3b79d2af1f92')\"\n",
              "              title=\"Convert this dataframe to an interactive table.\"\n",
              "              style=\"display:none;\">\n",
              "        \n",
              "  <svg xmlns=\"http://www.w3.org/2000/svg\" height=\"24px\"viewBox=\"0 0 24 24\"\n",
              "       width=\"24px\">\n",
              "    <path d=\"M0 0h24v24H0V0z\" fill=\"none\"/>\n",
              "    <path d=\"M18.56 5.44l.94 2.06.94-2.06 2.06-.94-2.06-.94-.94-2.06-.94 2.06-2.06.94zm-11 1L8.5 8.5l.94-2.06 2.06-.94-2.06-.94L8.5 2.5l-.94 2.06-2.06.94zm10 10l.94 2.06.94-2.06 2.06-.94-2.06-.94-.94-2.06-.94 2.06-2.06.94z\"/><path d=\"M17.41 7.96l-1.37-1.37c-.4-.4-.92-.59-1.43-.59-.52 0-1.04.2-1.43.59L10.3 9.45l-7.72 7.72c-.78.78-.78 2.05 0 2.83L4 21.41c.39.39.9.59 1.41.59.51 0 1.02-.2 1.41-.59l7.78-7.78 2.81-2.81c.8-.78.8-2.07 0-2.86zM5.41 20L4 18.59l7.72-7.72 1.47 1.35L5.41 20z\"/>\n",
              "  </svg>\n",
              "      </button>\n",
              "      \n",
              "  <style>\n",
              "    .colab-df-container {\n",
              "      display:flex;\n",
              "      flex-wrap:wrap;\n",
              "      gap: 12px;\n",
              "    }\n",
              "\n",
              "    .colab-df-convert {\n",
              "      background-color: #E8F0FE;\n",
              "      border: none;\n",
              "      border-radius: 50%;\n",
              "      cursor: pointer;\n",
              "      display: none;\n",
              "      fill: #1967D2;\n",
              "      height: 32px;\n",
              "      padding: 0 0 0 0;\n",
              "      width: 32px;\n",
              "    }\n",
              "\n",
              "    .colab-df-convert:hover {\n",
              "      background-color: #E2EBFA;\n",
              "      box-shadow: 0px 1px 2px rgba(60, 64, 67, 0.3), 0px 1px 3px 1px rgba(60, 64, 67, 0.15);\n",
              "      fill: #174EA6;\n",
              "    }\n",
              "\n",
              "    [theme=dark] .colab-df-convert {\n",
              "      background-color: #3B4455;\n",
              "      fill: #D2E3FC;\n",
              "    }\n",
              "\n",
              "    [theme=dark] .colab-df-convert:hover {\n",
              "      background-color: #434B5C;\n",
              "      box-shadow: 0px 1px 3px 1px rgba(0, 0, 0, 0.15);\n",
              "      filter: drop-shadow(0px 1px 2px rgba(0, 0, 0, 0.3));\n",
              "      fill: #FFFFFF;\n",
              "    }\n",
              "  </style>\n",
              "\n",
              "      <script>\n",
              "        const buttonEl =\n",
              "          document.querySelector('#df-62bfb727-2b90-41bc-818a-3b79d2af1f92 button.colab-df-convert');\n",
              "        buttonEl.style.display =\n",
              "          google.colab.kernel.accessAllowed ? 'block' : 'none';\n",
              "\n",
              "        async function convertToInteractive(key) {\n",
              "          const element = document.querySelector('#df-62bfb727-2b90-41bc-818a-3b79d2af1f92');\n",
              "          const dataTable =\n",
              "            await google.colab.kernel.invokeFunction('convertToInteractive',\n",
              "                                                     [key], {});\n",
              "          if (!dataTable) return;\n",
              "\n",
              "          const docLinkHtml = 'Like what you see? Visit the ' +\n",
              "            '<a target=\"_blank\" href=https://colab.research.google.com/notebooks/data_table.ipynb>data table notebook</a>'\n",
              "            + ' to learn more about interactive tables.';\n",
              "          element.innerHTML = '';\n",
              "          dataTable['output_type'] = 'display_data';\n",
              "          await google.colab.output.renderOutput(dataTable, element);\n",
              "          const docLink = document.createElement('div');\n",
              "          docLink.innerHTML = docLinkHtml;\n",
              "          element.appendChild(docLink);\n",
              "        }\n",
              "      </script>\n",
              "    </div>\n",
              "  </div>\n",
              "  "
            ],
            "text/plain": [
              "                NDVI  dia_do_ano  semana_do_ano  Anomaly  Anomaly_Score\n",
              "2009-11-17  0.500000         321             47        1       0.014261\n",
              "2010-01-01  0.816564           1             53        1       0.028997"
            ]
          },
          "metadata": {},
          "execution_count": 24
        }
      ]
    },
    {
      "cell_type": "markdown",
      "source": [
        "Salvando o modelo"
      ],
      "metadata": {
        "id": "0_h_w26nfcgH"
      }
    },
    {
      "cell_type": "code",
      "source": [
        "save_model(iforest,'Anomaly_Detection_NDVI_IForest_Model')"
      ],
      "metadata": {
        "id": "gYTuUpYpfbI4",
        "colab": {
          "base_uri": "https://localhost:8080/"
        },
        "outputId": "dd2e031c-df63-40a2-ba94-424c9af34232"
      },
      "execution_count": 25,
      "outputs": [
        {
          "output_type": "stream",
          "name": "stdout",
          "text": [
            "Transformation Pipeline and Model Successfully Saved\n"
          ]
        },
        {
          "output_type": "execute_result",
          "data": {
            "text/plain": [
              "(Pipeline(memory=None,\n",
              "          steps=[('dtypes',\n",
              "                  DataTypes_Auto_infer(categorical_features=[],\n",
              "                                       display_types=True, features_todrop=[],\n",
              "                                       id_columns=[], ml_usecase='regression',\n",
              "                                       numerical_features=[],\n",
              "                                       target='UNSUPERVISED_DUMMY_TARGET',\n",
              "                                       time_features=[])),\n",
              "                 ('imputer',\n",
              "                  Simple_Imputer(categorical_strategy='most frequent',\n",
              "                                 fill_value_categorical=None,\n",
              "                                 fill_value_numerical=None...\n",
              "                 ('fix_perfect', 'passthrough'),\n",
              "                 ('clean_names', Clean_Colum_Names()),\n",
              "                 ('feature_select', 'passthrough'), ('fix_multi', 'passthrough'),\n",
              "                 ('dfs', 'passthrough'), ('pca', 'passthrough'),\n",
              "                 ['trained_model',\n",
              "                  IForest(behaviour='new', bootstrap=False, contamination=0.01,\n",
              "     max_features=1.0, max_samples='auto', n_estimators=100, n_jobs=-1,\n",
              "     random_state=123, verbose=0)]],\n",
              "          verbose=False), 'Anomaly_Detection_NDVI_IForest_Model.pkl')"
            ]
          },
          "metadata": {},
          "execution_count": 25
        }
      ]
    },
    {
      "cell_type": "markdown",
      "source": [
        "#Pondo em prática"
      ],
      "metadata": {
        "id": "UEUpIemZfDIP"
      }
    },
    {
      "cell_type": "markdown",
      "source": [
        "Carregando o modelo"
      ],
      "metadata": {
        "id": "HVQOEexHByp5"
      }
    },
    {
      "cell_type": "code",
      "source": [
        "Anomaly_Detection_Model = load_model('Anomaly_Detection_NDVI_IForest_Model')"
      ],
      "metadata": {
        "colab": {
          "base_uri": "https://localhost:8080/"
        },
        "id": "ngqwxAuMDmi4",
        "outputId": "135d788e-3905-4745-a749-03306b316fef"
      },
      "execution_count": 26,
      "outputs": [
        {
          "output_type": "stream",
          "name": "stdout",
          "text": [
            "Transformation Pipeline and Model Successfully Loaded\n"
          ]
        }
      ]
    },
    {
      "cell_type": "markdown",
      "source": [
        "##Testando modelo em uma série temporal de um local específico"
      ],
      "metadata": {
        "id": "oA4BXhiXUZdl"
      }
    },
    {
      "cell_type": "code",
      "source": [
        "#Coordenadas Talhão \n",
        "geoP = ee.Geometry.Point([\n",
        "  -51.8186059,-20.4644763\n",
        "                          ])\n",
        "start , end = '2009-01-01','2019-12-31'\n",
        "#Definindo o intervalo de data das imagens.\n",
        "startDate = ee.Date.fromYMD(int(start[:4]),int(start[:7][-2:]),int(start[-2:]));\n",
        "endDate = ee.Date.fromYMD(int(end[:4]),int(end[:7][-2:]),int(end[-2:]));"
      ],
      "metadata": {
        "id": "r31EmIdIU5Gc"
      },
      "execution_count": 27,
      "outputs": []
    },
    {
      "cell_type": "code",
      "metadata": {
        "colab": {
          "base_uri": "https://localhost:8080/"
        },
        "id": "-v1u1I7yU9BA",
        "outputId": "85d5469c-85ac-4626-b5f5-12393de8502e"
      },
      "source": [
        "#Aplico os filtros na coleção de imagens NDVI MODIS, de área, datas e \n",
        "#representação de valores do NDVI\n",
        "modis = ee.ImageCollection(\"MODIS/006/MOD13Q1\")\n",
        "NDVI_Modis = modis.filterBounds(geoP).filterDate(startDate,endDate).map(NDVIf)\n",
        "#Quantidade de imagens na coleção\n",
        "print(NDVI_Modis.size().getInfo())"
      ],
      "execution_count": 28,
      "outputs": [
        {
          "output_type": "stream",
          "name": "stdout",
          "text": [
            "253\n"
          ]
        }
      ]
    },
    {
      "cell_type": "code",
      "source": [
        "#Função do ipygee para obtenção de gráficos derivados de coleção de imagens do GEE\n",
        "point_ndvi_Modis = chart.Image.series(**{'imageCollection': NDVI_Modis,\n",
        "                                   'region': geoP,\n",
        "                                   'reducer': ee.Reducer.mean(),\n",
        "                                   'bands' : 'NDVI',\n",
        "                                   'scale': 25,\n",
        "                                   'xProperty': 'system:time_start'})\n",
        "point_ndvi_Modis.renderWidget(width='40%')\n",
        "p1_dataframeModis2=point_ndvi_Modis.dataframe"
      ],
      "metadata": {
        "id": "PqftzxaAVrrE"
      },
      "execution_count": 29,
      "outputs": []
    },
    {
      "cell_type": "code",
      "source": [
        "fig, ax = plt.subplots(figsize=(15, 6))\n",
        "ax.plot(p1_dataframeModis2['NDVI'],label='NDVI'); \n",
        "plt.title('Série Temporal NDVI MODIS')\n",
        "plt.legend(loc='best')\n",
        "plt.style.use('fivethirtyeight')\n",
        "plt.show()"
      ],
      "metadata": {
        "colab": {
          "base_uri": "https://localhost:8080/",
          "height": 418
        },
        "id": "udj81dPOXXaU",
        "outputId": "45499784-9843-4b10-e780-bcf7f5d71126"
      },
      "execution_count": 30,
      "outputs": [
        {
          "output_type": "display_data",
          "data": {
            "image/png": "[encoded data removed]",
            "text/plain": [
              "<Figure size 1080x432 with 1 Axes>"
            ]
          },
          "metadata": {}
        }
      ]
    },
    {
      "cell_type": "code",
      "source": [
        "dataset = p1_dataframeModis2\n",
        "dataset['dia_do_ano'] = [i.dayofyear for i in dataset.index]\n",
        "dataset['semana_do_ano'] = [i.weekofyear for i in dataset.index]\n",
        "new_prediction = predict_model(Anomaly_Detection_Model, data=dataset)\n",
        "#Excluindo anomalias positivas\n",
        "anomaly = new_prediction[new_prediction['Anomaly'] == 1][new_prediction['NDVI']<0.6]\n"
      ],
      "metadata": {
        "id": "qcKxmh_7YTMj"
      },
      "execution_count": 31,
      "outputs": []
    },
    {
      "cell_type": "code",
      "source": [
        "fig, ax = plt.subplots(figsize=(15, 6))\n",
        "ax.scatter(anomaly.index,anomaly['NDVI'],color='red',label='Anomalia');\n",
        "ax.plot(p1_dataframeModis2['NDVI'],label='NDVI'); \n",
        "plt.title('Anomalias em Série Temporal NDVI MODIS')\n",
        "plt.legend(loc='best')\n",
        "plt.style.use('fivethirtyeight')\n",
        "plt.show()"
      ],
      "metadata": {
        "id": "WrV7U0ART40v",
        "colab": {
          "base_uri": "https://localhost:8080/",
          "height": 418
        },
        "outputId": "e5b4616b-58c7-487e-c56d-6c29601c875e"
      },
      "execution_count": 32,
      "outputs": [
        {
          "output_type": "display_data",
          "data": {
            "image/png": "[encoded data removed]",
            "text/plain": [
              "<Figure size 1080x432 with 1 Axes>"
            ]
          },
          "metadata": {}
        }
      ]
    },
    {
      "cell_type": "code",
      "source": [
        "anomaly"
      ],
      "metadata": {
        "id": "g0XcRbe9hgoO",
        "colab": {
          "base_uri": "https://localhost:8080/",
          "height": 864
        },
        "outputId": "b8e3ceb7-6992-4645-bc95-7d8bcd258c92"
      },
      "execution_count": 33,
      "outputs": [
        {
          "output_type": "execute_result",
          "data": {
            "text/html": [
              "\n",
              "  <div id=\"df-651bf8f0-110b-4377-87c9-c28f2bd55f18\">\n",
              "    <div class=\"colab-df-container\">\n",
              "      <div>\n",
              "<style scoped>\n",
              "    .dataframe tbody tr th:only-of-type {\n",
              "        vertical-align: middle;\n",
              "    }\n",
              "\n",
              "    .dataframe tbody tr th {\n",
              "        vertical-align: top;\n",
              "    }\n",
              "\n",
              "    .dataframe thead th {\n",
              "        text-align: right;\n",
              "    }\n",
              "</style>\n",
              "<table border=\"1\" class=\"dataframe\">\n",
              "  <thead>\n",
              "    <tr style=\"text-align: right;\">\n",
              "      <th></th>\n",
              "      <th>NDVI</th>\n",
              "      <th>dia_do_ano</th>\n",
              "      <th>semana_do_ano</th>\n",
              "      <th>Anomaly</th>\n",
              "      <th>Anomaly_Score</th>\n",
              "    </tr>\n",
              "  </thead>\n",
              "  <tbody>\n",
              "    <tr>\n",
              "      <th>2010-03-06</th>\n",
              "      <td>0.3474</td>\n",
              "      <td>65</td>\n",
              "      <td>9</td>\n",
              "      <td>1</td>\n",
              "      <td>0.079870</td>\n",
              "    </tr>\n",
              "    <tr>\n",
              "      <th>2010-03-22</th>\n",
              "      <td>0.4437</td>\n",
              "      <td>81</td>\n",
              "      <td>12</td>\n",
              "      <td>1</td>\n",
              "      <td>0.022733</td>\n",
              "    </tr>\n",
              "    <tr>\n",
              "      <th>2010-04-07</th>\n",
              "      <td>0.4228</td>\n",
              "      <td>97</td>\n",
              "      <td>14</td>\n",
              "      <td>1</td>\n",
              "      <td>0.013898</td>\n",
              "    </tr>\n",
              "    <tr>\n",
              "      <th>2010-05-09</th>\n",
              "      <td>0.4629</td>\n",
              "      <td>129</td>\n",
              "      <td>18</td>\n",
              "      <td>1</td>\n",
              "      <td>0.008064</td>\n",
              "    </tr>\n",
              "    <tr>\n",
              "      <th>2010-06-26</th>\n",
              "      <td>0.3819</td>\n",
              "      <td>177</td>\n",
              "      <td>25</td>\n",
              "      <td>1</td>\n",
              "      <td>0.009181</td>\n",
              "    </tr>\n",
              "    <tr>\n",
              "      <th>2010-07-12</th>\n",
              "      <td>0.3598</td>\n",
              "      <td>193</td>\n",
              "      <td>28</td>\n",
              "      <td>1</td>\n",
              "      <td>0.007529</td>\n",
              "    </tr>\n",
              "    <tr>\n",
              "      <th>2010-07-28</th>\n",
              "      <td>0.3499</td>\n",
              "      <td>209</td>\n",
              "      <td>30</td>\n",
              "      <td>1</td>\n",
              "      <td>0.007921</td>\n",
              "    </tr>\n",
              "    <tr>\n",
              "      <th>2010-08-13</th>\n",
              "      <td>0.3581</td>\n",
              "      <td>225</td>\n",
              "      <td>32</td>\n",
              "      <td>1</td>\n",
              "      <td>0.003854</td>\n",
              "    </tr>\n",
              "    <tr>\n",
              "      <th>2010-08-29</th>\n",
              "      <td>0.3298</td>\n",
              "      <td>241</td>\n",
              "      <td>34</td>\n",
              "      <td>1</td>\n",
              "      <td>0.026017</td>\n",
              "    </tr>\n",
              "    <tr>\n",
              "      <th>2010-09-14</th>\n",
              "      <td>0.3141</td>\n",
              "      <td>257</td>\n",
              "      <td>37</td>\n",
              "      <td>1</td>\n",
              "      <td>0.011034</td>\n",
              "    </tr>\n",
              "    <tr>\n",
              "      <th>2010-09-30</th>\n",
              "      <td>0.3088</td>\n",
              "      <td>273</td>\n",
              "      <td>39</td>\n",
              "      <td>1</td>\n",
              "      <td>0.018788</td>\n",
              "    </tr>\n",
              "    <tr>\n",
              "      <th>2010-11-01</th>\n",
              "      <td>0.3876</td>\n",
              "      <td>305</td>\n",
              "      <td>44</td>\n",
              "      <td>1</td>\n",
              "      <td>0.034861</td>\n",
              "    </tr>\n",
              "    <tr>\n",
              "      <th>2010-11-17</th>\n",
              "      <td>0.3995</td>\n",
              "      <td>321</td>\n",
              "      <td>46</td>\n",
              "      <td>1</td>\n",
              "      <td>0.035765</td>\n",
              "    </tr>\n",
              "    <tr>\n",
              "      <th>2016-01-01</th>\n",
              "      <td>0.0584</td>\n",
              "      <td>1</td>\n",
              "      <td>53</td>\n",
              "      <td>1</td>\n",
              "      <td>0.147167</td>\n",
              "    </tr>\n",
              "    <tr>\n",
              "      <th>2017-12-03</th>\n",
              "      <td>0.4645</td>\n",
              "      <td>337</td>\n",
              "      <td>48</td>\n",
              "      <td>1</td>\n",
              "      <td>0.039121</td>\n",
              "    </tr>\n",
              "    <tr>\n",
              "      <th>2017-12-19</th>\n",
              "      <td>0.3782</td>\n",
              "      <td>353</td>\n",
              "      <td>51</td>\n",
              "      <td>1</td>\n",
              "      <td>0.069099</td>\n",
              "    </tr>\n",
              "    <tr>\n",
              "      <th>2018-01-01</th>\n",
              "      <td>0.3857</td>\n",
              "      <td>1</td>\n",
              "      <td>1</td>\n",
              "      <td>1</td>\n",
              "      <td>0.083555</td>\n",
              "    </tr>\n",
              "    <tr>\n",
              "      <th>2018-01-17</th>\n",
              "      <td>0.4436</td>\n",
              "      <td>17</td>\n",
              "      <td>3</td>\n",
              "      <td>1</td>\n",
              "      <td>0.042252</td>\n",
              "    </tr>\n",
              "    <tr>\n",
              "      <th>2018-02-18</th>\n",
              "      <td>0.4072</td>\n",
              "      <td>49</td>\n",
              "      <td>7</td>\n",
              "      <td>1</td>\n",
              "      <td>0.057066</td>\n",
              "    </tr>\n",
              "    <tr>\n",
              "      <th>2018-03-06</th>\n",
              "      <td>0.4283</td>\n",
              "      <td>65</td>\n",
              "      <td>10</td>\n",
              "      <td>1</td>\n",
              "      <td>0.040411</td>\n",
              "    </tr>\n",
              "    <tr>\n",
              "      <th>2018-03-22</th>\n",
              "      <td>0.3120</td>\n",
              "      <td>81</td>\n",
              "      <td>12</td>\n",
              "      <td>1</td>\n",
              "      <td>0.059330</td>\n",
              "    </tr>\n",
              "    <tr>\n",
              "      <th>2018-04-07</th>\n",
              "      <td>0.3211</td>\n",
              "      <td>97</td>\n",
              "      <td>14</td>\n",
              "      <td>1</td>\n",
              "      <td>0.045648</td>\n",
              "    </tr>\n",
              "    <tr>\n",
              "      <th>2018-04-23</th>\n",
              "      <td>0.3731</td>\n",
              "      <td>113</td>\n",
              "      <td>17</td>\n",
              "      <td>1</td>\n",
              "      <td>0.013816</td>\n",
              "    </tr>\n",
              "    <tr>\n",
              "      <th>2018-05-09</th>\n",
              "      <td>0.3965</td>\n",
              "      <td>129</td>\n",
              "      <td>19</td>\n",
              "      <td>1</td>\n",
              "      <td>0.013155</td>\n",
              "    </tr>\n",
              "    <tr>\n",
              "      <th>2018-05-25</th>\n",
              "      <td>0.3630</td>\n",
              "      <td>145</td>\n",
              "      <td>21</td>\n",
              "      <td>1</td>\n",
              "      <td>0.024421</td>\n",
              "    </tr>\n",
              "    <tr>\n",
              "      <th>2018-06-10</th>\n",
              "      <td>0.3822</td>\n",
              "      <td>161</td>\n",
              "      <td>23</td>\n",
              "      <td>1</td>\n",
              "      <td>0.012889</td>\n",
              "    </tr>\n",
              "  </tbody>\n",
              "</table>\n",
              "</div>\n",
              "      <button class=\"colab-df-convert\" onclick=\"convertToInteractive('df-651bf8f0-110b-4377-87c9-c28f2bd55f18')\"\n",
              "              title=\"Convert this dataframe to an interactive table.\"\n",
              "              style=\"display:none;\">\n",
              "        \n",
              "  <svg xmlns=\"http://www.w3.org/2000/svg\" height=\"24px\"viewBox=\"0 0 24 24\"\n",
              "       width=\"24px\">\n",
              "    <path d=\"M0 0h24v24H0V0z\" fill=\"none\"/>\n",
              "    <path d=\"M18.56 5.44l.94 2.06.94-2.06 2.06-.94-2.06-.94-.94-2.06-.94 2.06-2.06.94zm-11 1L8.5 8.5l.94-2.06 2.06-.94-2.06-.94L8.5 2.5l-.94 2.06-2.06.94zm10 10l.94 2.06.94-2.06 2.06-.94-2.06-.94-.94-2.06-.94 2.06-2.06.94z\"/><path d=\"M17.41 7.96l-1.37-1.37c-.4-.4-.92-.59-1.43-.59-.52 0-1.04.2-1.43.59L10.3 9.45l-7.72 7.72c-.78.78-.78 2.05 0 2.83L4 21.41c.39.39.9.59 1.41.59.51 0 1.02-.2 1.41-.59l7.78-7.78 2.81-2.81c.8-.78.8-2.07 0-2.86zM5.41 20L4 18.59l7.72-7.72 1.47 1.35L5.41 20z\"/>\n",
              "  </svg>\n",
              "      </button>\n",
              "      \n",
              "  <style>\n",
              "    .colab-df-container {\n",
              "      display:flex;\n",
              "      flex-wrap:wrap;\n",
              "      gap: 12px;\n",
              "    }\n",
              "\n",
              "    .colab-df-convert {\n",
              "      background-color: #E8F0FE;\n",
              "      border: none;\n",
              "      border-radius: 50%;\n",
              "      cursor: pointer;\n",
              "      display: none;\n",
              "      fill: #1967D2;\n",
              "      height: 32px;\n",
              "      padding: 0 0 0 0;\n",
              "      width: 32px;\n",
              "    }\n",
              "\n",
              "    .colab-df-convert:hover {\n",
              "      background-color: #E2EBFA;\n",
              "      box-shadow: 0px 1px 2px rgba(60, 64, 67, 0.3), 0px 1px 3px 1px rgba(60, 64, 67, 0.15);\n",
              "      fill: #174EA6;\n",
              "    }\n",
              "\n",
              "    [theme=dark] .colab-df-convert {\n",
              "      background-color: #3B4455;\n",
              "      fill: #D2E3FC;\n",
              "    }\n",
              "\n",
              "    [theme=dark] .colab-df-convert:hover {\n",
              "      background-color: #434B5C;\n",
              "      box-shadow: 0px 1px 3px 1px rgba(0, 0, 0, 0.15);\n",
              "      filter: drop-shadow(0px 1px 2px rgba(0, 0, 0, 0.3));\n",
              "      fill: #FFFFFF;\n",
              "    }\n",
              "  </style>\n",
              "\n",
              "      <script>\n",
              "        const buttonEl =\n",
              "          document.querySelector('#df-651bf8f0-110b-4377-87c9-c28f2bd55f18 button.colab-df-convert');\n",
              "        buttonEl.style.display =\n",
              "          google.colab.kernel.accessAllowed ? 'block' : 'none';\n",
              "\n",
              "        async function convertToInteractive(key) {\n",
              "          const element = document.querySelector('#df-651bf8f0-110b-4377-87c9-c28f2bd55f18');\n",
              "          const dataTable =\n",
              "            await google.colab.kernel.invokeFunction('convertToInteractive',\n",
              "                                                     [key], {});\n",
              "          if (!dataTable) return;\n",
              "\n",
              "          const docLinkHtml = 'Like what you see? Visit the ' +\n",
              "            '<a target=\"_blank\" href=https://colab.research.google.com/notebooks/data_table.ipynb>data table notebook</a>'\n",
              "            + ' to learn more about interactive tables.';\n",
              "          element.innerHTML = '';\n",
              "          dataTable['output_type'] = 'display_data';\n",
              "          await google.colab.output.renderOutput(dataTable, element);\n",
              "          const docLink = document.createElement('div');\n",
              "          docLink.innerHTML = docLinkHtml;\n",
              "          element.appendChild(docLink);\n",
              "        }\n",
              "      </script>\n",
              "    </div>\n",
              "  </div>\n",
              "  "
            ],
            "text/plain": [
              "              NDVI  dia_do_ano  semana_do_ano  Anomaly  Anomaly_Score\n",
              "2010-03-06  0.3474          65              9        1       0.079870\n",
              "2010-03-22  0.4437          81             12        1       0.022733\n",
              "2010-04-07  0.4228          97             14        1       0.013898\n",
              "2010-05-09  0.4629         129             18        1       0.008064\n",
              "2010-06-26  0.3819         177             25        1       0.009181\n",
              "2010-07-12  0.3598         193             28        1       0.007529\n",
              "2010-07-28  0.3499         209             30        1       0.007921\n",
              "2010-08-13  0.3581         225             32        1       0.003854\n",
              "2010-08-29  0.3298         241             34        1       0.026017\n",
              "2010-09-14  0.3141         257             37        1       0.011034\n",
              "2010-09-30  0.3088         273             39        1       0.018788\n",
              "2010-11-01  0.3876         305             44        1       0.034861\n",
              "2010-11-17  0.3995         321             46        1       0.035765\n",
              "2016-01-01  0.0584           1             53        1       0.147167\n",
              "2017-12-03  0.4645         337             48        1       0.039121\n",
              "2017-12-19  0.3782         353             51        1       0.069099\n",
              "2018-01-01  0.3857           1              1        1       0.083555\n",
              "2018-01-17  0.4436          17              3        1       0.042252\n",
              "2018-02-18  0.4072          49              7        1       0.057066\n",
              "2018-03-06  0.4283          65             10        1       0.040411\n",
              "2018-03-22  0.3120          81             12        1       0.059330\n",
              "2018-04-07  0.3211          97             14        1       0.045648\n",
              "2018-04-23  0.3731         113             17        1       0.013816\n",
              "2018-05-09  0.3965         129             19        1       0.013155\n",
              "2018-05-25  0.3630         145             21        1       0.024421\n",
              "2018-06-10  0.3822         161             23        1       0.012889"
            ]
          },
          "metadata": {},
          "execution_count": 33
        }
      ]
    },
    {
      "cell_type": "code",
      "source": [
        "fig, ax = plt.subplots(figsize=(15, 6))\n",
        "ax.scatter(anomaly.index[14:],anomaly['NDVI'][14:],color='red',label='Anomalia');\n",
        "ax.plot(p1_dataframeModis2['NDVI'][195:],label='NDVI'); \n",
        "plt.title('Anomalias em Série Temporal NDVI MODIS')\n",
        "plt.legend(loc='best')\n",
        "plt.style.use('fivethirtyeight')\n",
        "plt.show()"
      ],
      "metadata": {
        "colab": {
          "base_uri": "https://localhost:8080/",
          "height": 418
        },
        "id": "LN_d1B40heae",
        "outputId": "795d6ba7-0f20-4f10-8674-4f2c5730529e"
      },
      "execution_count": 34,
      "outputs": [
        {
          "output_type": "display_data",
          "data": {
            "image/png": "[encoded data removed]",
            "text/plain": [
              "<Figure size 1080x432 with 1 Axes>"
            ]
          },
          "metadata": {}
        }
      ]
    },
    {
      "cell_type": "markdown",
      "metadata": {
        "id": "axX3W5Wmj0ac"
      },
      "source": [
        "#Processamento"
      ]
    },
    {
      "cell_type": "code",
      "source": [
        "start , end = '2017-10-01','2018-03-31'\n",
        "buffer , porcentagemNuvem = 500 , 10"
      ],
      "metadata": {
        "id": "uS27PK7mP2kb"
      },
      "execution_count": 44,
      "outputs": []
    },
    {
      "cell_type": "code",
      "source": [
        "Map = geemap.Map()\n",
        "\n",
        "pointColheita = ee.Feature(geoP)\n",
        "roi = pointColheita.buffer(buffer)\n",
        "geometry = geoP\n",
        "Map.centerObject(geometry,20)\n",
        "s2 = ee.ImageCollection(\"COPERNICUS/S2\")\n"
      ],
      "metadata": {
        "id": "cRae2EBjPZ6M"
      },
      "execution_count": 45,
      "outputs": []
    },
    {
      "cell_type": "code",
      "metadata": {
        "colab": {
          "base_uri": "https://localhost:8080/",
          "height": 0
        },
        "id": "ysmRjm8utTA0",
        "outputId": "6b69bb5d-6de6-4045-f513-548b3893e466"
      },
      "source": [
        "\n",
        "\n",
        "# Write a function for Cloud masking\n",
        "def maskS2clouds(image):\n",
        "  qa = image.select('QA60')\n",
        "  cloudBitMask = 1 << 10\n",
        "  cirrusBitMask = 1 << 11\n",
        "  mask = qa.bitwiseAnd(cloudBitMask).eq(0).And(\n",
        "             qa.bitwiseAnd(cirrusBitMask).eq(0))\n",
        "  return image.updateMask(mask) \\\n",
        "      .select(\"B.*\") \\\n",
        "      .copyProperties(image, [\"system:time_start\"])\n",
        "\n",
        "filtered = s2 \\\n",
        "  .filter(ee.Filter.date(start , end )) \\\n",
        "  .filter(ee.Filter.intersects('.geo', geometry)) \\\n",
        "  .map(maskS2clouds).filter(ee.Filter.lt('CLOUDY_PIXEL_PERCENTAGE',porcentagemNuvem))\n",
        "\n",
        "\n",
        "imgCol = filtered.map(lambda img: img.clip(roi))\n",
        "\n",
        "rgbVis = {\n",
        "  'min': 0.0,\n",
        "  'max': 3000,\n",
        "  'bands': ['B4', 'B3', 'B2'],\n",
        "}\n",
        "\n",
        "'''\n",
        "Map.addLayer(imgCol, rgbVis, 'RGB Composite')\n",
        "Map.addLayer(geometry,name='Amostras')\n",
        "Map\n",
        "'''"
      ],
      "execution_count": 46,
      "outputs": [
        {
          "output_type": "execute_result",
          "data": {
            "application/vnd.google.colaboratory.intrinsic+json": {
              "type": "string"
            },
            "text/plain": [
              "\"\\nMap.addLayer(imgCol, rgbVis, 'RGB Composite')\\nMap.addLayer(geometry,name='Amostras')\\nMap\\n\""
            ]
          },
          "metadata": {},
          "execution_count": 46
        }
      ]
    },
    {
      "cell_type": "code",
      "metadata": {
        "colab": {
          "base_uri": "https://localhost:8080/"
        },
        "id": "H2td1Gl27jJD",
        "outputId": "2257f39b-7299-46ac-da2c-344fbfbbd460"
      },
      "source": [
        "print(imgCol.size().getInfo())"
      ],
      "execution_count": 47,
      "outputs": [
        {
          "output_type": "stream",
          "name": "stdout",
          "text": [
            "7\n"
          ]
        }
      ]
    },
    {
      "cell_type": "code",
      "metadata": {
        "id": "oFRvhGc6F4gG"
      },
      "source": [
        "time = [str(datetime.datetime.fromtimestamp(x/1000).date()) for x in imgCol.aggregate_array('system:time_start').getInfo()]"
      ],
      "execution_count": 48,
      "outputs": []
    },
    {
      "cell_type": "markdown",
      "metadata": {
        "id": "xJsneaPVJU7l"
      },
      "source": [
        "#Resultado"
      ]
    },
    {
      "cell_type": "code",
      "source": [
        "time = [str(datetime.datetime.fromtimestamp(x/1000).date()) for x in imgCol.aggregate_array('system:time_start').getInfo()]"
      ],
      "metadata": {
        "id": "FiwK790SVN7g"
      },
      "execution_count": 49,
      "outputs": []
    },
    {
      "cell_type": "code",
      "metadata": {
        "colab": {
          "base_uri": "https://localhost:8080/"
        },
        "id": "E7XfluwEiqm7",
        "outputId": "3efb907c-e83c-409b-ab01-a09059e16d99"
      },
      "source": [
        "#work_dir = os.path.join(os.path.expanduser(\"~\"), 'Downloads')\n",
        "work_dir = FolderProj\n",
        "if not os.path.exists(work_dir):\n",
        "    os.makedirs(work_dir)\n",
        "out_gif = os.path.join(work_dir, \"landsat_ts.gif\")\n",
        "geemap.download_ee_video(imgCol, rgbVis, out_gif)\n",
        "texted_gif = os.path.join(work_dir, \"landsat_ts_text.gif\")\n",
        "geemap.add_text_to_gif(out_gif, texted_gif, xy=('3%', '5%'), text_sequence=time, font_size=15, font_color='#ffffff', add_progress_bar=False,duration = 1250)"
      ],
      "execution_count": 50,
      "outputs": [
        {
          "output_type": "stream",
          "name": "stdout",
          "text": [
            "Generating URL...\n",
            "Downloading GIF image from https://earthengine.googleapis.com/v1alpha/projects/earthengine-legacy/videoThumbnails/078dcece4efd1b79143a645fa500ee30-777983dee6720e90e2704be0440a268e:getPixels\n",
            "Please wait ...\n",
            "The GIF image has been saved to: /content/drive/MyDrive/Colab Notebooks/Anomaly Detection - Identifying harvested areas with sentinel imagery with the GEE/landsat_ts.gif\n"
          ]
        }
      ]
    },
    {
      "cell_type": "code",
      "metadata": {
        "id": "ujKf5jIiqOj6",
        "colab": {
          "base_uri": "https://localhost:8080/",
          "height": 793,
          "referenced_widgets": [
            "07e62a291ea74ce68386bdc072633ed5",
            "333693f5f6444d26899553083ee08bca",
            "4b57c7d83d9a465fb2287a181fe8149a",
            "294cb5775f414260b4941fbf6e019fd2"
          ]
        },
        "outputId": "becd5787-322d-4417-e44e-a30fa81b9255"
      },
      "source": [
        "geemap.show_image(texted_gif)"
      ],
      "execution_count": 51,
      "outputs": [
        {
          "output_type": "display_data",
          "data": {
            "application/vnd.jupyter.widget-view+json": {
              "model_id": "07e62a291ea74ce68386bdc072633ed5",
              "version_minor": 0,
              "version_major": 2
            },
            "text/plain": [
              "Output()"
            ]
          },
          "metadata": {
            "application/vnd.jupyter.widget-view+json": {
              "colab": {
                "custom_widget_manager": {
                  "url": "https://ssl.gstatic.com/colaboratory-static/widgets/colab-cdn-widget-manager/a8874ba6619b6106/manager.min.js"
                }
              }
            }
          }
        }
      ]
    }
  ]
}